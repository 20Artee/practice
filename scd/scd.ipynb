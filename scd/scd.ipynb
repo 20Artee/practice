{
 "cells": [
  {
   "cell_type": "markdown",
   "id": "53481237-8988-4563-a82e-37acf0dcc660",
   "metadata": {},
   "source": [
    "## Level 1: Getting Raw Dataset\n",
    "\n",
    "In this section, we'll get raw datasets from the \"data\" folder and save them to  Level 1.\n"
   ]
  },
  {
   "cell_type": "code",
   "execution_count": 26,
   "id": "25f28cc8-1980-459f-9586-e81bbdb14425",
   "metadata": {},
   "outputs": [],
   "source": [
    "import pandas as pd\n",
    "import os\n",
    "\n",
    "raw_folder = \"C:/Users/Rauan/practice/scd/Raw/\"\n",
    "source_folder = \"C:/Users/Rauan/practice/data/\"\n",
    "\n",
    "climdf = pd.read_csv(\"C:/Users/Rauan/practice/data/climate_change_indicators.csv\")\n",
    "popdf = pd.read_csv(\"C:/Users/Rauan/practice/data/World Population Dataset.csv\")\n",
    "gdpdf = pd.read_csv(\"C:/Users/Rauan/practice/data/world_gdp_data.csv\")\n",
    "\n",
    "climdf.to_csv(os.path.join(raw_folder, \"climate_change_indicators.csv\"), index=False)\n",
    "popdf.to_csv(os.path.join(raw_folder, \"World Population Dataset.csv\"), index=False)\n",
    "gdpdf.to_csv(os.path.join(raw_folder, \"world_gdp_data.csv\"), index=False)\n"
   ]
  },
  {
   "cell_type": "markdown",
   "id": "efdbb553-3aaf-4e4f-8cad-462c8b6a954a",
   "metadata": {},
   "source": [
    "## Level 2: Create Dims and Facts folder\n",
    "\n",
    "In this section, we'll get Dimensions from content/Dim"
   ]
  },
  {
   "cell_type": "code",
   "execution_count": 43,
   "id": "7162e7cf-3050-45bf-a651-22efed79dccc",
   "metadata": {},
   "outputs": [
    {
     "name": "stdout",
     "output_type": "stream",
     "text": [
      "Dimensions and Fact saved to Refined folder successfully.\n"
     ]
    }
   ],
   "source": [
    "import pandas as pd\n",
    "import os\n",
    "\n",
    "# Define the base directory path\n",
    "base_dir = \"C:/Users/Rauan/practice/\"\n",
    "\n",
    "# Define the paths for dimensions and facts\n",
    "source_folder_dims = os.path.join(base_dir, \"content/Dim\")\n",
    "source_folder_facts = os.path.join(base_dir, \"content/Fact\")\n",
    "refined_dims_folder = os.path.join(base_dir, \"scd/Refined/Dims\")\n",
    "refined_facts_folder = os.path.join(base_dir, \"scd/Refined/Facts\")\n",
    "\n",
    "# List of dimension names\n",
    "dims_to_process = [\"DimCountry\", \"DimRank\", \"DimArea\", \"DimCapital\"]\n",
    "\n",
    "# Process each dimension\n",
    "for dim_name in dims_to_process:\n",
    "    # Load dimension data\n",
    "    dim_data = pd.read_csv(os.path.join(source_folder_dims, dim_name + \".csv\"))\n",
    "    \n",
    "    # Save dimension data to Refined/Dims folder\n",
    "    dim_data.to_csv(os.path.join(refined_dims_folder, dim_name + \".csv\"), index=False)\n",
    "\n",
    "# Load and save the fact table\n",
    "fact_data = pd.read_csv(os.path.join(source_folder_facts, \"FactNormalizedPopulation.csv\"))\n",
    "fact_data.to_csv(os.path.join(refined_facts_folder, \"FactNormalizedPopulation.csv\"), index=False)\n",
    "\n",
    "print(\"Dimensions and Fact saved to Refined folder successfully.\")\n"
   ]
  },
  {
   "cell_type": "code",
   "execution_count": null,
   "id": "78595946-364e-4039-be61-841c7a7dfed9",
   "metadata": {},
   "outputs": [],
   "source": []
  }
 ],
 "metadata": {
  "kernelspec": {
   "display_name": "Python 3 (ipykernel)",
   "language": "python",
   "name": "python3"
  },
  "language_info": {
   "codemirror_mode": {
    "name": "ipython",
    "version": 3
   },
   "file_extension": ".py",
   "mimetype": "text/x-python",
   "name": "python",
   "nbconvert_exporter": "python",
   "pygments_lexer": "ipython3",
   "version": "3.12.2"
  }
 },
 "nbformat": 4,
 "nbformat_minor": 5
}
