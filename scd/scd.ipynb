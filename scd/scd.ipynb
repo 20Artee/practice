{
 "cells": [
  {
   "cell_type": "markdown",
   "id": "53481237-8988-4563-a82e-37acf0dcc660",
   "metadata": {},
   "source": [
    "## Level 1: Data Ingestion to Raw\n",
    "\n",
    "In this section, we'll get raw datasets from the \"data\" folder and save them to  Level 1.\n"
   ]
  },
  {
   "cell_type": "code",
   "execution_count": 198,
   "id": "25f28cc8-1980-459f-9586-e81bbdb14425",
   "metadata": {},
   "outputs": [],
   "source": [
    "import pandas as pd\n",
    "import os\n",
    "\n",
    "raw_folder = \"C:/Users/Rauan/practice/scd/Raw/\"\n",
    "source_folder = \"C:/Users/Rauan/practice/data/\"\n",
    "\n",
    "climdf = pd.read_csv(\"C:/Users/Rauan/practice/data/climate_change_indicators.csv\")\n",
    "popdf = pd.read_csv(\"C:/Users/Rauan/practice/data/World Population Dataset.csv\")\n",
    "gdpdf = pd.read_csv(\"C:/Users/Rauan/practice/data/world_gdp_data.csv\")\n",
    "\n",
    "climdf.to_csv(os.path.join(raw_folder, \"climate_change_indicators.csv\"), index=False)\n",
    "popdf.to_csv(os.path.join(raw_folder, \"World Population Dataset.csv\"), index=False)\n",
    "gdpdf.to_csv(os.path.join(raw_folder, \"world_gdp_data.csv\"), index=False)\n"
   ]
  },
  {
   "cell_type": "markdown",
   "id": "efdbb553-3aaf-4e4f-8cad-462c8b6a954a",
   "metadata": {},
   "source": [
    "## Level 2: Create Dims and Facts folder\n",
    "\n",
    "In this section, we'll get Dimensions and Facts"
   ]
  },
  {
   "cell_type": "code",
   "execution_count": 199,
   "id": "7162e7cf-3050-45bf-a651-22efed79dccc",
   "metadata": {},
   "outputs": [],
   "source": [
    "base_dir = \"C:/Users/Rauan/practice/\"\n",
    "\n",
    "source_folder_dims = os.path.join(base_dir, \"content/Dim\")\n",
    "source_folder_facts = os.path.join(base_dir, \"content/Fact\")\n",
    "refined_dims_folder = os.path.join(base_dir, \"scd/Refined/Dims\")\n",
    "refined_facts_folder = os.path.join(base_dir, \"scd/Refined/Facts\")\n",
    "\n",
    "dims_to_process = [\"DimCountry\", \"DimRank\", \"DimArea\", \"DimCapital\"]"
   ]
  },
  {
   "cell_type": "markdown",
   "id": "ccb9dd79-db52-48ec-8850-26b41d083109",
   "metadata": {},
   "source": [
    "## Level 2: Implementing SCD Type 2 for FactNormalizedPopulation\n",
    "\n",
    "In this section, we will focus on implementing Slowly Changing Dimension (SCD) Type 2 for the FactNormalizedPopulation table. SCD Type 2 allows us to maintain historical data by creating new records for changes in dimension attributes over time, ensuring accurate historical analysis while keeping track of current information."
   ]
  },
  {
   "cell_type": "markdown",
   "id": "23dd7433-7c48-4a83-806e-32ed015efe70",
   "metadata": {},
   "source": [
    "In this section, it prepares each dimension table by adding start date, end date, and current flag columns to implement SCD Type 2."
   ]
  },
  {
   "cell_type": "code",
   "execution_count": 200,
   "id": "78595946-364e-4039-be61-841c7a7dfed9",
   "metadata": {},
   "outputs": [],
   "source": [
    "import hashlib\n",
    "\n",
    "start_date = \"01.01.1900\"\n",
    "end_date = \"31.12.9999\"\n",
    "current_flag = 1\n",
    "\n",
    "for dim_name in dims_to_process:\n",
    "    dim_data = pd.read_csv(os.path.join(source_folder_dims, dim_name + \".csv\"))\n",
    "    \n",
    "    dim_data['start'] = start_date\n",
    "    dim_data['end'] = end_date\n",
    "    dim_data['current'] = current_flag\n",
    "    \n",
    "    dim_data.to_csv(os.path.join(refined_dims_folder, dim_name + \".csv\"), index=False)"
   ]
  },
  {
   "cell_type": "markdown",
   "id": "15bdcc61-1af2-4d3b-ad5c-ee3c2cb09310",
   "metadata": {},
   "source": [
    "This code reads the fact data, generates unique identifiers for each row using MD5 hashing, and then saves the updated data to a CSV in \"Refined/Facts\" folder."
   ]
  },
  {
   "cell_type": "code",
   "execution_count": 201,
   "id": "f83267b5-2f13-4c27-9eab-327649302167",
   "metadata": {},
   "outputs": [],
   "source": [
    "fact_data = pd.read_csv(os.path.join(source_folder_facts, \"FactNormalizedPopulation.csv\"))\n",
    "\n",
    "fact_data['unique_id'] = fact_data.apply(lambda x: hashlib.md5(str(x).encode()).hexdigest(), axis=1)\n",
    "\n",
    "fact_data.to_csv(os.path.join(refined_facts_folder, \"FactNormalizedPopulation.csv\"), index=False)"
   ]
  },
  {
   "cell_type": "markdown",
   "id": "412bc65f-904e-4cdf-b0f3-41158dd91fe8",
   "metadata": {},
   "source": [
    "This code reads the current data from the \"DimCountry\" dimension table, filters it to select only the active records(current = 1), and then saves the selected data to a CSV in \"Produced/Dims\" folder."
   ]
  },
  {
   "cell_type": "markdown",
   "id": "b50d0268-4088-4e85-92e5-026f92ff5432",
   "metadata": {},
   "source": [
    "## Level 3: Ingestion to Produced\n"
   ]
  },
  {
   "cell_type": "code",
   "execution_count": 202,
   "id": "89ee949b-b1ab-4328-b62f-76112bbad422",
   "metadata": {},
   "outputs": [],
   "source": [
    "produced_dims_folder = os.path.join(base_dir, \"scd/Produced/Dims\")\n",
    "produced_facts_folder = os.path.join(base_dir, \"scd/Produced/Facts\")\n",
    "\n",
    "dim_country_current = pd.read_csv(os.path.join(refined_dims_folder,\"DimCountry.csv\", ))\n",
    "dim_country_current = dim_country_current[dim_country_current['current'] == 1][['country_id', 'country']]\n",
    "\n",
    "dim_country_current.to_csv(os.path.join(produced_dims_folder, \"DimCountry.csv\"), index=False)"
   ]
  },
  {
   "cell_type": "markdown",
   "id": "b6c3f6fe-f5e1-46e2-a79a-aff8751beecc",
   "metadata": {},
   "source": [
    "This code filters each dimension table by the current = 1, selects specified columns, and saves the filtered data to CSV in the \"Produced/Dims\" folder.\n",
    "\n",
    "\n",
    "\n",
    "\n",
    "\n",
    "\n"
   ]
  },
  {
   "cell_type": "code",
   "execution_count": 203,
   "id": "57e187b0-70d8-43df-8597-046b3eea146c",
   "metadata": {},
   "outputs": [],
   "source": [
    "base_dir = \"C:/Users/Rauan/practice/\"\n",
    "\n",
    "refined_dims_folder = os.path.join(base_dir, \"scd/Refined/Dims\")\n",
    "produced_dims_folder = os.path.join(base_dir, \"scd/Produced/Dims\")\n",
    "\n",
    "def filter(dim_name, columns):\n",
    "    dim_data = pd.read_csv(os.path.join(refined_dims_folder, dim_name + \".csv\"))\n",
    "    dim_data_current = dim_data[dim_data['current'] == 1][columns]\n",
    "    dim_data_current.to_csv(os.path.join(produced_dims_folder, dim_name + \".csv\"), index=False)\n",
    "\n",
    "filter(\"DimArea\", ['country_id', 'Area (km²)'])\n",
    "\n",
    "filter(\"DimCapital\", ['country_id', 'Capital'])\n",
    "\n",
    "filter(\"DimRank\", ['country_id', 'Rank'])"
   ]
  },
  {
   "cell_type": "markdown",
   "id": "0ea9dbf8-7b9d-47b8-b3a6-65b0665d67ad",
   "metadata": {},
   "source": [
    "This code reads a CSV from Refined facts, then duplicates this process for the production data. After merging production data with the refined data based on specific columns, it drops the 'unique_id' column and saves the resulting DataFrame to CSV file"
   ]
  },
  {
   "cell_type": "code",
   "execution_count": 204,
   "id": "a5421771-4f94-4c38-afd5-fe806a3967d0",
   "metadata": {},
   "outputs": [],
   "source": [
    "refined_fact_data = pd.read_csv(os.path.join(refined_facts_folder, \"FactNormalizedPopulation.csv\"))\n",
    "\n",
    "produced_fact_data = pd.read_csv(os.path.join(refined_facts_folder, \"FactNormalizedPopulation.csv\"))\n",
    "\n",
    "produced_fact_data = produced_fact_data.merge(refined_fact_data[['unique_id', 'country_id', 'date', 'population']])\n",
    "\n",
    "produced_fact_data.drop(columns=['unique_id'], inplace=True)\n",
    "\n",
    "produced_fact_data.to_csv(os.path.join(produced_facts_folder, \"Produced_FactNorm.csv\"), index=False)\n"
   ]
  },
  {
   "cell_type": "markdown",
   "id": "8a7856b9-e41f-4d8d-9d71-b8db985aca41",
   "metadata": {},
   "source": [
    "Implementing new recording on Level 2, and add it to Level 3"
   ]
  },
  {
   "cell_type": "markdown",
   "id": "bb6a2920-baab-46f6-b4bb-66bd44620dc3",
   "metadata": {},
   "source": [
    "Code replaces occurrences of 'Kazakhstan' with 'Qazaqstan' in the 'country' column and 'Nursultan' with 'Astana' in the 'Capital' column for both the refined and produced DimCountry and DimCapital datasets, and then saves the updated datasets"
   ]
  },
  {
   "cell_type": "code",
   "execution_count": 205,
   "id": "a587429d-4805-472f-8024-98c05d32747b",
   "metadata": {},
   "outputs": [],
   "source": [
    "dim_country_data = pd.read_csv(os.path.join(refined_dims_folder, \"DimCountry.csv\"))\n",
    "dim_capital_data = pd.read_csv(os.path.join(refined_dims_folder, \"DimCapital.csv\"))\n",
    "produced_country_data = pd.read_csv(os.path.join(produced_dims_folder, \"DimCountry.csv\"))\n",
    "produced_capital_data= pd.read_csv(os.path.join(produced_dims_folder, \"DimCapital.csv\"))\n",
    "\n",
    "dim_country_data.loc[dim_country_data['country'] == 'Kazakhstan', 'country'] = 'Qazaqstan'\n",
    "dim_capital_data.loc[dim_capital_data['Capital'] == 'Nursultan', 'Capital'] = 'Astana'\n",
    "produced_country_data.loc[produced_country_data['country'] == 'Kazakhstan', 'country'] = 'Qazaqstan'\n",
    "produced_capital_data.loc[produced_capital_data['Capital'] == 'Nursultan', 'Capital'] = 'Astana'\n",
    "\n",
    "dim_country_data.to_csv(os.path.join(refined_dims_folder, \"DimCountry.csv\"), index=False)\n",
    "dim_capital_data.to_csv(os.path.join(refined_dims_folder, \"DimCapital.csv\"), index=False)\n",
    "produced_country_data.to_csv(os.path.join(produced_dims_folder, \"DimCountry.csv\"), index=False)\n",
    "produced_capital_data.to_csv(os.path.join(produced_dims_folder, \"DimCapital.csv\"), index=False)\n"
   ]
  },
  {
   "cell_type": "code",
   "execution_count": null,
   "id": "3003fd7e-66ec-4192-8e2d-45e4f16653f5",
   "metadata": {},
   "outputs": [],
   "source": []
  }
 ],
 "metadata": {
  "kernelspec": {
   "display_name": "Python 3 (ipykernel)",
   "language": "python",
   "name": "python3"
  },
  "language_info": {
   "codemirror_mode": {
    "name": "ipython",
    "version": 3
   },
   "file_extension": ".py",
   "mimetype": "text/x-python",
   "name": "python",
   "nbconvert_exporter": "python",
   "pygments_lexer": "ipython3",
   "version": "3.12.2"
  }
 },
 "nbformat": 4,
 "nbformat_minor": 5
}
