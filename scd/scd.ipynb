{
 "cells": [
  {
   "cell_type": "markdown",
   "id": "53481237-8988-4563-a82e-37acf0dcc660",
   "metadata": {},
   "source": [
    "## Level 1: Getting Raw Dataset\n",
    "\n",
    "In this section, we'll get raw datasets from the \"data\" folder and save them to  Level 1.\n"
   ]
  },
  {
   "cell_type": "code",
   "execution_count": 7,
   "id": "25f28cc8-1980-459f-9586-e81bbdb14425",
   "metadata": {},
   "outputs": [],
   "source": [
    "import pandas as pd\n",
    "import os\n",
    "\n",
    "raw_folder = \"C:/Users/Rauan/practice/scd/Raw/\"\n",
    "source_folder = \"C:/Users/Rauan/practice/data/\"\n",
    "\n",
    "climdf = pd.read_csv(\"C:/Users/Rauan/practice/data/climate_change_indicators.csv\")\n",
    "popdf = pd.read_csv(\"C:/Users/Rauan/practice/data/World Population Dataset.csv\")\n",
    "gdpdf = pd.read_csv(\"C:/Users/Rauan/practice/data/world_gdp_data.csv\")\n",
    "\n",
    "climdf.to_csv(os.path.join(raw_folder, \"climate_change_indicators.csv\"), index=False)\n",
    "popdf.to_csv(os.path.join(raw_folder, \"World Population Dataset.csv\"), index=False)\n",
    "gdpdf.to_csv(os.path.join(raw_folder, \"world_gdp_data.csv\"), index=False)\n"
   ]
  },
  {
   "cell_type": "markdown",
   "id": "efdbb553-3aaf-4e4f-8cad-462c8b6a954a",
   "metadata": {},
   "source": [
    "## Level 2: Create Dims and Facts folder\n",
    "\n",
    "In this section, we'll get Dimensions and Facts"
   ]
  },
  {
   "cell_type": "code",
   "execution_count": 8,
   "id": "7162e7cf-3050-45bf-a651-22efed79dccc",
   "metadata": {},
   "outputs": [],
   "source": [
    "import pandas as pd\n",
    "import os\n",
    "\n",
    "base_dir = \"C:/Users/Rauan/practice/\"\n",
    "\n",
    "source_folder_dims = os.path.join(base_dir, \"content/Dim\")\n",
    "source_folder_facts = os.path.join(base_dir, \"content/Fact\")\n",
    "refined_dims_folder = os.path.join(base_dir, \"scd/Refined/Dims\")\n",
    "refined_facts_folder = os.path.join(base_dir, \"scd/Refined/Facts\")\n",
    "\n",
    "dims_to_process = [\"DimCountry\", \"DimRank\", \"DimArea\", \"DimCapital\"]\n",
    "\n",
    "\n"
   ]
  },
  {
   "cell_type": "markdown",
   "id": "ccb9dd79-db52-48ec-8850-26b41d083109",
   "metadata": {},
   "source": [
    "## Level 2: Creating type 2 of SCD for FactNormalizedPopulation"
   ]
  },
  {
   "cell_type": "code",
   "execution_count": 12,
   "id": "78595946-364e-4039-be61-841c7a7dfed9",
   "metadata": {},
   "outputs": [],
   "source": [
    "start_date = \"01.01.1900\"\n",
    "end_date = \"31.12.9999\"\n",
    "current_flag = 1\n",
    "\n",
    "for dim_name in dims_to_process:\n",
    "    dim_data = pd.read_csv(os.path.join(source_folder_dims, dim_name + \".csv\"))\n",
    "    \n",
    "    dim_data['start'] = start_date\n",
    "    dim_data['end'] = end_date\n",
    "    dim_data['current'] = current_flag\n",
    "    \n",
    "    dim_data.to_csv(os.path.join(refined_dims_folder, dim_name + \".csv\"), index=False)\n",
    "\n",
    "fact_data = pd.read_csv(os.path.join(source_folder_facts, \"FactNormalizedPopulation.csv\"))\n",
    "\n",
    "fact_data['start'] = start_date\n",
    "fact_data['end'] = end_date\n",
    "fact_data['current'] = current_flag\n",
    "\n",
    "fact_data.to_csv(os.path.join(refined_facts_folder, \"FactNormalizedPopulation.csv\"), index=False)\n"
   ]
  },
  {
   "cell_type": "code",
   "execution_count": 13,
   "id": "89ee949b-b1ab-4328-b62f-76112bbad422",
   "metadata": {},
   "outputs": [],
   "source": [
    "produced_dims_folder = os.path.join(base_dir, \"scd/Produced/Dims\")\n",
    "produced_facts_folder = os.path.join(base_dir, \"scd/Produced/Facts\")\n",
    "\n",
    "dim_country_current = pd.read_csv(os.path.join(refined_dims_folder,\"DimCountry.csv\"))\n",
    "dim_country_current = dim_country_current[dim_country_current['current'] == 1][['country_id', 'country']]\n",
    "\n",
    "dim_country_current.to_csv(os.path.join(produced_dims_folder, \"Produced.csv\"), index=False)"
   ]
  },
  {
   "cell_type": "code",
   "execution_count": null,
   "id": "10d27957-4cde-4a89-8702-f986efc5f12a",
   "metadata": {},
   "outputs": [],
   "source": []
  }
 ],
 "metadata": {
  "kernelspec": {
   "display_name": "Python 3 (ipykernel)",
   "language": "python",
   "name": "python3"
  },
  "language_info": {
   "codemirror_mode": {
    "name": "ipython",
    "version": 3
   },
   "file_extension": ".py",
   "mimetype": "text/x-python",
   "name": "python",
   "nbconvert_exporter": "python",
   "pygments_lexer": "ipython3",
   "version": "3.12.2"
  }
 },
 "nbformat": 4,
 "nbformat_minor": 5
}
