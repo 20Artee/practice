{
 "cells": [
  {
   "cell_type": "code",
   "execution_count": 1,
   "id": "e28f0134",
   "metadata": {},
   "outputs": [
    {
     "name": "stdout",
     "output_type": "stream",
     "text": [
      "Hello, Rauan\n"
     ]
    }
   ],
   "source": [
    "print(\"Hello, Rauan\")"
   ]
  },
  {
   "cell_type": "code",
   "execution_count": null,
   "id": "03f85a9d",
   "metadata": {},
   "outputs": [],
   "source": []
  }
 ],
 "metadata": {
  "kernelspec": {
   "display_name": "Python 3 (ipykernel)",
   "language": "python",
   "name": "python3"
  },
  "language_info": {
   "codemirror_mode": {
    "name": "ipython",
    "version": 3
   },
   "file_extension": ".py",
   "mimetype": "text/x-python",
   "name": "python",
   "nbconvert_exporter": "python",
   "pygments_lexer": "ipython3",
   "version": "3.11.5"
  }
 },
 "nbformat": 4,
 "nbformat_minor": 5
}
