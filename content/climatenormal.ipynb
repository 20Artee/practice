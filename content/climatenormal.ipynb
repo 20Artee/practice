{
 "cells": [
  {
   "cell_type": "code",
   "execution_count": 99,
   "id": "8c2491fd-56fb-492b-9cf8-8954c2e5b76a",
   "metadata": {},
   "outputs": [],
   "source": [
    "import pandas as pd\n",
    "\n",
    "climate_data = pd.read_csv('C:/Users/Rauan/practice/data/climate_change_indicators.csv')\n",
    "\n",
    "climate_data['country_id'] = pd.factorize(climate_data['Country'])[0] + 1\n",
    "\n",
    "dim_iso2 = climate_data[['ISO2', 'country_id']].drop_duplicates().reset_index(drop=True)\n",
    "dim_iso3 = climate_data[['ISO3', 'country_id']].drop_duplicates().reset_index(drop=True)\n",
    "\n",
    "dim_iso2.to_csv(\"Dim/DimISO2.csv\", index=False)\n",
    "dim_iso3.to_csv(\"Dim/DimISO3.csv\", index=False)\n",
    "\n",
    "dim_combined = climate_data[['country_id', 'Indicator', 'Unit', 'Source', 'CTS_Code', 'CTS_Name', 'CTS_Full_Descriptor']].drop_duplicates()\n",
    "\n",
    "dim_cts = climate_data.filter(regex='^CTS_', axis=1).drop_duplicates().reset_index(drop=True)\n",
    "dim_cts['country_id'] = climate_data['country_id'].unique()[0] \n",
    "\n",
    "dim_combined_cts = pd.concat([dim_combined, dim_cts], axis=1)\n",
    "\n",
    "dim_combined_cts.to_csv(\"Dim/Dim_Combined.csv\", index=False)\n"
   ]
  },
  {
   "cell_type": "code",
   "execution_count": 100,
   "id": "668075ea-ba11-4fc4-ace6-5d08a9b9e96d",
   "metadata": {},
   "outputs": [],
   "source": [
    "dim_country = climate_data[['country_id', 'Country']].drop_duplicates()\n",
    "\n",
    "dim_country.to_csv(\"Dim/DimCountryClimate.csv\", index=False)"
   ]
  },
  {
   "cell_type": "code",
   "execution_count": 101,
   "id": "8ea88479-2126-4537-b83e-b7f198314ae2",
   "metadata": {},
   "outputs": [],
   "source": [
    "fact_normalized_climate = pd.read_csv('Fact/FactNormalizedClimate.csv')\n",
    "\n",
    "fact_normalized_climate = fact_normalized_climate.dropna(subset=['value'])\n",
    "\n",
    "fact_normalized_climate.to_csv('Fact/FactNormalizedClimate.csv', index=False)\n"
   ]
  },
  {
   "cell_type": "code",
   "execution_count": null,
   "id": "f2ce4e48-cced-444e-9cb6-4e87b89397dc",
   "metadata": {},
   "outputs": [],
   "source": []
  }
 ],
 "metadata": {
  "kernelspec": {
   "display_name": "Python 3 (ipykernel)",
   "language": "python",
   "name": "python3"
  },
  "language_info": {
   "codemirror_mode": {
    "name": "ipython",
    "version": 3
   },
   "file_extension": ".py",
   "mimetype": "text/x-python",
   "name": "python",
   "nbconvert_exporter": "python",
   "pygments_lexer": "ipython3",
   "version": "3.12.2"
  }
 },
 "nbformat": 4,
 "nbformat_minor": 5
}
