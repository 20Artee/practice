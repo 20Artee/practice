{
 "cells": [
  {
   "cell_type": "code",
   "execution_count": 235,
   "id": "3b6a0bfe-8977-4dc3-862b-1dca0889078f",
   "metadata": {},
   "outputs": [],
   "source": [
    "import pandas as pd\n",
    "import numpy as np\n",
    "\n",
    "fact_normalized_climate = pd.read_csv('Fact/FactNormalizedClimate.csv')\n",
    "\n",
    "country_id_values = np.random.randint(1, 1001, size=len(fact_normalized_climate))\n",
    "\n",
    "fact_normalized_climate['country_id'] = country_id_values\n",
    "\n",
    "fact_normalized_climate.to_csv('Fact/FactNormalizedClimate.csv', index=False)\n"
   ]
  },
  {
   "cell_type": "code",
   "execution_count": 236,
   "id": "3d8a5941-73d5-430d-bb56-434451d1330f",
   "metadata": {},
   "outputs": [],
   "source": [
    "dim_country_climate = pd.read_csv('Dim/DimCountryClimate.csv')\n",
    "climate_data = pd.read_csv('C:/Users/Rauan/practice/data/climate_change_indicators.csv')\n",
    "\n",
    "dim_country_climate.to_csv('Dim/DimCountryClimate.csv', index=False)\n",
    "\n",
    "dim_object_id = pd.DataFrame({'country_id': dim_country_climate['country_id'], 'ObjectId': climate_data['ObjectId']})\n",
    "dim_object_id.to_csv('Dim/DimObjectId.csv', index=False)\n",
    "\n",
    "dim_iso2 = pd.DataFrame({'country_id': dim_country_climate['country_id'], 'ISO2': climate_data['ISO2']})\n",
    "dim_iso2.to_csv('Dim/DimISO2.csv', index=False)\n",
    "\n",
    "dim_iso3 = pd.DataFrame({'country_id': dim_country_climate['country_id'], 'ISO3': climate_data['ISO3']})\n",
    "dim_iso3.to_csv('Dim/DimISO3.csv', index=False)"
   ]
  },
  {
   "cell_type": "code",
   "execution_count": 237,
   "id": "f02330a4-132d-46cd-8d3b-6121448bcefc",
   "metadata": {},
   "outputs": [],
   "source": [
    "climate_data = pd.read_csv('C:/Users/Rauan/practice/data/climate_change_indicators.csv')\n",
    "\n",
    "dim_country_climate = pd.read_csv('Dim/DimCountryClimate.csv')\n",
    "\n",
    "for column in ['Indicator', 'Unit', 'Source', 'CTS_Code', 'CTS_Name', 'CTS_Full_Descriptor']:\n",
    "    dim_df = pd.DataFrame({'country_id': dim_country_climate['country_id'], column: climate_data[column]})\n",
    "    \n",
    "    output_file = f'Dim/Dim{column}.csv'\n",
    "\n",
    "    dim_df.to_csv(output_file, index=False)"
   ]
  },
  {
   "cell_type": "code",
   "execution_count": 238,
   "id": "a3485832-b1c5-40b6-88ff-4190a2451c99",
   "metadata": {},
   "outputs": [],
   "source": [
    "fact_normalized_climate = pd.read_csv('Fact/FactNormalizedClimate.csv')\n",
    "dim_country_climate = pd.read_csv('Dim/DimCountryClimate.csv')\n",
    "\n",
    "fact_normalized_climate['country_id'] = dim_country_climate['country_id']\n",
    "\n",
    "cols = list(fact_normalized_climate.columns)\n",
    "cols = ['country_id'] + [col for col in cols if col != 'country_id']\n",
    "fact_normalized_climate = fact_normalized_climate[cols]\n",
    "\n",
    "fact_normalized_climate.to_csv('Fact/FactNormalizedClimate.csv', index=False)\n"
   ]
  },
  {
   "cell_type": "code",
   "execution_count": 239,
   "id": "da84777a-26f8-4731-9f4d-373bded99997",
   "metadata": {},
   "outputs": [
    {
     "name": "stderr",
     "output_type": "stream",
     "text": [
      "C:\\Windows\\Temp\\ipykernel_14240\\1302687805.py:12: FutureWarning: 'AS' is deprecated and will be removed in a future version, please use 'YS' instead.\n",
      "  dates = pd.date_range(start='1961-01-01', end='2022-01-01', freq='AS')  # 1 января каждого года\n"
     ]
    },
    {
     "ename": "ValueError",
     "evalue": "Length of values (2873700) does not match length of index (163123984)",
     "output_type": "error",
     "traceback": [
      "\u001b[1;31m---------------------------------------------------------------------------\u001b[0m",
      "\u001b[1;31mValueError\u001b[0m                                Traceback (most recent call last)",
      "Cell \u001b[1;32mIn[239], line 19\u001b[0m\n\u001b[0;32m     17\u001b[0m \u001b[38;5;66;03m# Заполнение DataFrame\u001b[39;00m\n\u001b[0;32m     18\u001b[0m fact_normalized_climate[\u001b[38;5;124m'\u001b[39m\u001b[38;5;124mcountry_id\u001b[39m\u001b[38;5;124m'\u001b[39m] \u001b[38;5;241m=\u001b[39m np\u001b[38;5;241m.\u001b[39mtile(repeated_country_ids, num_country_ids)\n\u001b[1;32m---> 19\u001b[0m \u001b[43mfact_normalized_climate\u001b[49m\u001b[43m[\u001b[49m\u001b[38;5;124;43m'\u001b[39;49m\u001b[38;5;124;43mvalue\u001b[39;49m\u001b[38;5;124;43m'\u001b[39;49m\u001b[43m]\u001b[49m \u001b[38;5;241m=\u001b[39m np\u001b[38;5;241m.\u001b[39mtile(values, num_country_ids)\n\u001b[0;32m     20\u001b[0m fact_normalized_climate[\u001b[38;5;124m'\u001b[39m\u001b[38;5;124mdate\u001b[39m\u001b[38;5;124m'\u001b[39m] \u001b[38;5;241m=\u001b[39m np\u001b[38;5;241m.\u001b[39mtile(np\u001b[38;5;241m.\u001b[39mrepeat(dates, \u001b[38;5;28mlen\u001b[39m(selected_columns)), num_country_ids)\n\u001b[0;32m     22\u001b[0m \u001b[38;5;66;03m# Сохранение в CSV файл\u001b[39;00m\n",
      "File \u001b[1;32mE:\\anaconda\\envs\\de\\Lib\\site-packages\\pandas\\core\\frame.py:4299\u001b[0m, in \u001b[0;36mDataFrame.__setitem__\u001b[1;34m(self, key, value)\u001b[0m\n\u001b[0;32m   4296\u001b[0m     \u001b[38;5;28mself\u001b[39m\u001b[38;5;241m.\u001b[39m_setitem_array([key], value)\n\u001b[0;32m   4297\u001b[0m \u001b[38;5;28;01melse\u001b[39;00m:\n\u001b[0;32m   4298\u001b[0m     \u001b[38;5;66;03m# set column\u001b[39;00m\n\u001b[1;32m-> 4299\u001b[0m     \u001b[38;5;28;43mself\u001b[39;49m\u001b[38;5;241;43m.\u001b[39;49m\u001b[43m_set_item\u001b[49m\u001b[43m(\u001b[49m\u001b[43mkey\u001b[49m\u001b[43m,\u001b[49m\u001b[43m \u001b[49m\u001b[43mvalue\u001b[49m\u001b[43m)\u001b[49m\n",
      "File \u001b[1;32mE:\\anaconda\\envs\\de\\Lib\\site-packages\\pandas\\core\\frame.py:4512\u001b[0m, in \u001b[0;36mDataFrame._set_item\u001b[1;34m(self, key, value)\u001b[0m\n\u001b[0;32m   4502\u001b[0m \u001b[38;5;28;01mdef\u001b[39;00m \u001b[38;5;21m_set_item\u001b[39m(\u001b[38;5;28mself\u001b[39m, key, value) \u001b[38;5;241m-\u001b[39m\u001b[38;5;241m>\u001b[39m \u001b[38;5;28;01mNone\u001b[39;00m:\n\u001b[0;32m   4503\u001b[0m \u001b[38;5;250m    \u001b[39m\u001b[38;5;124;03m\"\"\"\u001b[39;00m\n\u001b[0;32m   4504\u001b[0m \u001b[38;5;124;03m    Add series to DataFrame in specified column.\u001b[39;00m\n\u001b[0;32m   4505\u001b[0m \n\u001b[1;32m   (...)\u001b[0m\n\u001b[0;32m   4510\u001b[0m \u001b[38;5;124;03m    ensure homogeneity.\u001b[39;00m\n\u001b[0;32m   4511\u001b[0m \u001b[38;5;124;03m    \"\"\"\u001b[39;00m\n\u001b[1;32m-> 4512\u001b[0m     value, refs \u001b[38;5;241m=\u001b[39m \u001b[38;5;28;43mself\u001b[39;49m\u001b[38;5;241;43m.\u001b[39;49m\u001b[43m_sanitize_column\u001b[49m\u001b[43m(\u001b[49m\u001b[43mvalue\u001b[49m\u001b[43m)\u001b[49m\n\u001b[0;32m   4514\u001b[0m     \u001b[38;5;28;01mif\u001b[39;00m (\n\u001b[0;32m   4515\u001b[0m         key \u001b[38;5;129;01min\u001b[39;00m \u001b[38;5;28mself\u001b[39m\u001b[38;5;241m.\u001b[39mcolumns\n\u001b[0;32m   4516\u001b[0m         \u001b[38;5;129;01mand\u001b[39;00m value\u001b[38;5;241m.\u001b[39mndim \u001b[38;5;241m==\u001b[39m \u001b[38;5;241m1\u001b[39m\n\u001b[0;32m   4517\u001b[0m         \u001b[38;5;129;01mand\u001b[39;00m \u001b[38;5;129;01mnot\u001b[39;00m \u001b[38;5;28misinstance\u001b[39m(value\u001b[38;5;241m.\u001b[39mdtype, ExtensionDtype)\n\u001b[0;32m   4518\u001b[0m     ):\n\u001b[0;32m   4519\u001b[0m         \u001b[38;5;66;03m# broadcast across multiple columns if necessary\u001b[39;00m\n\u001b[0;32m   4520\u001b[0m         \u001b[38;5;28;01mif\u001b[39;00m \u001b[38;5;129;01mnot\u001b[39;00m \u001b[38;5;28mself\u001b[39m\u001b[38;5;241m.\u001b[39mcolumns\u001b[38;5;241m.\u001b[39mis_unique \u001b[38;5;129;01mor\u001b[39;00m \u001b[38;5;28misinstance\u001b[39m(\u001b[38;5;28mself\u001b[39m\u001b[38;5;241m.\u001b[39mcolumns, MultiIndex):\n",
      "File \u001b[1;32mE:\\anaconda\\envs\\de\\Lib\\site-packages\\pandas\\core\\frame.py:5253\u001b[0m, in \u001b[0;36mDataFrame._sanitize_column\u001b[1;34m(self, value)\u001b[0m\n\u001b[0;32m   5250\u001b[0m     \u001b[38;5;28;01mreturn\u001b[39;00m _reindex_for_setitem(value, \u001b[38;5;28mself\u001b[39m\u001b[38;5;241m.\u001b[39mindex)\n\u001b[0;32m   5252\u001b[0m \u001b[38;5;28;01mif\u001b[39;00m is_list_like(value):\n\u001b[1;32m-> 5253\u001b[0m     \u001b[43mcom\u001b[49m\u001b[38;5;241;43m.\u001b[39;49m\u001b[43mrequire_length_match\u001b[49m\u001b[43m(\u001b[49m\u001b[43mvalue\u001b[49m\u001b[43m,\u001b[49m\u001b[43m \u001b[49m\u001b[38;5;28;43mself\u001b[39;49m\u001b[38;5;241;43m.\u001b[39;49m\u001b[43mindex\u001b[49m\u001b[43m)\u001b[49m\n\u001b[0;32m   5254\u001b[0m arr \u001b[38;5;241m=\u001b[39m sanitize_array(value, \u001b[38;5;28mself\u001b[39m\u001b[38;5;241m.\u001b[39mindex, copy\u001b[38;5;241m=\u001b[39m\u001b[38;5;28;01mTrue\u001b[39;00m, allow_2d\u001b[38;5;241m=\u001b[39m\u001b[38;5;28;01mTrue\u001b[39;00m)\n\u001b[0;32m   5255\u001b[0m \u001b[38;5;28;01mif\u001b[39;00m (\n\u001b[0;32m   5256\u001b[0m     \u001b[38;5;28misinstance\u001b[39m(value, Index)\n\u001b[0;32m   5257\u001b[0m     \u001b[38;5;129;01mand\u001b[39;00m value\u001b[38;5;241m.\u001b[39mdtype \u001b[38;5;241m==\u001b[39m \u001b[38;5;124m\"\u001b[39m\u001b[38;5;124mobject\u001b[39m\u001b[38;5;124m\"\u001b[39m\n\u001b[1;32m   (...)\u001b[0m\n\u001b[0;32m   5260\u001b[0m     \u001b[38;5;66;03m# TODO: Remove kludge in sanitize_array for string mode when enforcing\u001b[39;00m\n\u001b[0;32m   5261\u001b[0m     \u001b[38;5;66;03m# this deprecation\u001b[39;00m\n",
      "File \u001b[1;32mE:\\anaconda\\envs\\de\\Lib\\site-packages\\pandas\\core\\common.py:573\u001b[0m, in \u001b[0;36mrequire_length_match\u001b[1;34m(data, index)\u001b[0m\n\u001b[0;32m    569\u001b[0m \u001b[38;5;250m\u001b[39m\u001b[38;5;124;03m\"\"\"\u001b[39;00m\n\u001b[0;32m    570\u001b[0m \u001b[38;5;124;03mCheck the length of data matches the length of the index.\u001b[39;00m\n\u001b[0;32m    571\u001b[0m \u001b[38;5;124;03m\"\"\"\u001b[39;00m\n\u001b[0;32m    572\u001b[0m \u001b[38;5;28;01mif\u001b[39;00m \u001b[38;5;28mlen\u001b[39m(data) \u001b[38;5;241m!=\u001b[39m \u001b[38;5;28mlen\u001b[39m(index):\n\u001b[1;32m--> 573\u001b[0m     \u001b[38;5;28;01mraise\u001b[39;00m \u001b[38;5;167;01mValueError\u001b[39;00m(\n\u001b[0;32m    574\u001b[0m         \u001b[38;5;124m\"\u001b[39m\u001b[38;5;124mLength of values \u001b[39m\u001b[38;5;124m\"\u001b[39m\n\u001b[0;32m    575\u001b[0m         \u001b[38;5;124mf\u001b[39m\u001b[38;5;124m\"\u001b[39m\u001b[38;5;124m(\u001b[39m\u001b[38;5;132;01m{\u001b[39;00m\u001b[38;5;28mlen\u001b[39m(data)\u001b[38;5;132;01m}\u001b[39;00m\u001b[38;5;124m) \u001b[39m\u001b[38;5;124m\"\u001b[39m\n\u001b[0;32m    576\u001b[0m         \u001b[38;5;124m\"\u001b[39m\u001b[38;5;124mdoes not match length of index \u001b[39m\u001b[38;5;124m\"\u001b[39m\n\u001b[0;32m    577\u001b[0m         \u001b[38;5;124mf\u001b[39m\u001b[38;5;124m\"\u001b[39m\u001b[38;5;124m(\u001b[39m\u001b[38;5;132;01m{\u001b[39;00m\u001b[38;5;28mlen\u001b[39m(index)\u001b[38;5;132;01m}\u001b[39;00m\u001b[38;5;124m)\u001b[39m\u001b[38;5;124m\"\u001b[39m\n\u001b[0;32m    578\u001b[0m     )\n",
      "\u001b[1;31mValueError\u001b[0m: Length of values (2873700) does not match length of index (163123984)"
     ]
    }
   ],
   "source": [
    "climate_data = pd.read_csv('C:/Users/Rauan/practice/data/climate_change_indicators.csv')\n",
    "\n",
    "fact_normalized_climate = pd.DataFrame(columns=['country_id', 'value', 'date'])\n",
    "\n",
    "# Использование уникальных country_id из DimCountryClimate\n",
    "country_ids = dim_country_climate['country_id'].unique()\n",
    "num_country_ids = len(country_ids)\n",
    "\n",
    "# Генерация случайных значений value и date\n",
    "num_records = len(climate_data) * len(selected_columns)\n",
    "values = np.random.rand(num_records)  # Здесь нужно использовать ваш реальный метод генерации значений\n",
    "dates = pd.date_range(start='1961-01-01', end='2022-01-01', freq='AS')  # 1 января каждого года\n",
    "\n",
    "# Повторение country_id для каждой записи\n",
    "repeated_country_ids = np.repeat(country_ids, len(selected_columns) * len(dates))\n",
    "\n",
    "# Заполнение DataFrame\n",
    "fact_normalized_climate['country_id'] = np.tile(repeated_country_ids, num_country_ids)\n",
    "fact_normalized_climate['value'] = np.tile(values, num_country_ids)\n",
    "fact_normalized_climate['date'] = np.tile(np.repeat(dates, len(selected_columns)), num_country_ids)\n",
    "\n",
    "# Сохранение в CSV файл\n",
    "fact_normalized_climate.to_csv('Fact/FactNormalizedClimate.csv', index=False)"
   ]
  },
  {
   "cell_type": "code",
   "execution_count": 161,
   "id": "6a6031c6-780c-40bc-82f5-db0376b41841",
   "metadata": {},
   "outputs": [],
   "source": []
  },
  {
   "cell_type": "code",
   "execution_count": null,
   "id": "8228b733-d942-4235-b1dc-a7e232e60db5",
   "metadata": {},
   "outputs": [],
   "source": []
  }
 ],
 "metadata": {
  "kernelspec": {
   "display_name": "Python 3 (ipykernel)",
   "language": "python",
   "name": "python3"
  },
  "language_info": {
   "codemirror_mode": {
    "name": "ipython",
    "version": 3
   },
   "file_extension": ".py",
   "mimetype": "text/x-python",
   "name": "python",
   "nbconvert_exporter": "python",
   "pygments_lexer": "ipython3",
   "version": "3.12.2"
  }
 },
 "nbformat": 4,
 "nbformat_minor": 5
}
