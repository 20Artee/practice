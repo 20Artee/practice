{
 "cells": [
  {
   "cell_type": "code",
   "execution_count": 47,
   "id": "26f838c7-8d74-490f-a78a-f0f71f6300e4",
   "metadata": {},
   "outputs": [],
   "source": [
    "import pandas as pd\n",
    "import os\n",
    "import random\n",
    "\n",
    "file_path = r\"C:\\Users\\Rauan\\practice\\data\\world_gdp_data.csv\"\n",
    "data = pd.read_csv(file_path)\n",
    "\n",
    "data['country_id'] = data['country_name'].astype('category').cat.codes\n",
    "\n",
    "country_dim = data[['country_id', 'country_name']].drop_duplicates().reset_index(drop=True)\n",
    "indicator_dim = data[['country_id', 'indicator_name']].drop_duplicates().reset_index(drop=True)\n",
    "\n",
    "random_country_keys = random.choices(range(1000), k=len(country_dim))"
   ]
  },
  {
   "cell_type": "code",
   "execution_count": 48,
   "id": "9709b15b-0497-48cc-8cf9-39e14d77fcc7",
   "metadata": {},
   "outputs": [],
   "source": [
    "country_dim['country_id'] = random_country_keys\n",
    "indicator_dim['country_id'] = random_country_keys\n",
    "\n",
    "dim_folder_path = r\"C:\\Users\\Rauan\\practice\\content\\Dim\"\n",
    "\n",
    "dim_country_file_path = os.path.join(dim_folder_path, 'DimCountryGDP.csv')\n",
    "dim_indicator_file_path = os.path.join(dim_folder_path, 'DimIndicatorGDP.csv')\n",
    "\n",
    "country_dim.to_csv(dim_country_file_path, index=False)\n",
    "indicator_dim.to_csv(dim_indicator_file_path, index=False)"
   ]
  },
  {
   "cell_type": "code",
   "execution_count": 49,
   "id": "bac7809b-2011-4fbb-b7d4-271bd9b79ee4",
   "metadata": {},
   "outputs": [],
   "source": [
    "file_path = r\"C:\\Users\\Rauan\\practice\\data\\world_gdp_data.csv\"\n",
    "data = pd.read_csv(file_path)\n",
    "\n",
    "dim_country_file_path = r\"C:\\Users\\Rauan\\practice\\content\\Dim\\DimCountryGDP.csv\"\n",
    "dim_country = pd.read_csv(dim_country_file_path)\n",
    "\n",
    "data_melted = pd.melt(data, id_vars=['country_name', 'indicator_name'], var_name='date', value_name='value')\n",
    "\n",
    "data_melted['date'] = pd.to_datetime(data_melted['date'] + '.01.01')\n",
    "\n",
    "data_merged = pd.merge(data_melted, dim_country[['country_id', 'country_name']], how='left', on='country_name')\n",
    "\n",
    "data_merged.drop(['country_name', 'indicator_name'], axis=1, inplace=True)\n",
    "\n",
    "country_id_col = data_merged.pop('country_id')\n",
    "data_merged.insert(0, 'country_id', country_id_col)\n",
    "\n",
    "merged_file_path = r\"C:\\Users\\Rauan\\practice\\content\\Fact\\FactNormalizedGDP.csv\"\n",
    "data_merged.to_csv(merged_file_path, index=False)\n"
   ]
  },
  {
   "cell_type": "code",
   "execution_count": null,
   "id": "f4d0c8d9-490c-457d-a618-990bfcbd2c93",
   "metadata": {},
   "outputs": [],
   "source": []
  }
 ],
 "metadata": {
  "kernelspec": {
   "display_name": "Python 3 (ipykernel)",
   "language": "python",
   "name": "python3"
  },
  "language_info": {
   "codemirror_mode": {
    "name": "ipython",
    "version": 3
   },
   "file_extension": ".py",
   "mimetype": "text/x-python",
   "name": "python",
   "nbconvert_exporter": "python",
   "pygments_lexer": "ipython3",
   "version": "3.12.2"
  }
 },
 "nbformat": 4,
 "nbformat_minor": 5
}
