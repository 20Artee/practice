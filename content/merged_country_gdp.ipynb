{
 "cells": [
  {
   "cell_type": "code",
   "execution_count": 142,
   "id": "41078725-ae3b-403a-99af-a3a4a0e47f84",
   "metadata": {},
   "outputs": [],
   "source": [
    "import pandas as pd\n",
    "\n",
    "dim_country = pd.read_csv(r\"C:\\Users\\Rauan\\practice\\content\\Dim\\DimCountry.csv\")\n",
    "dim_country_gdp = pd.read_csv(r\"C:\\Users\\Rauan\\practice\\content\\Dim\\DimCountryGDP.csv\")\n",
    "\n",
    "merged_dim = pd.merge(dim_country, dim_country_gdp, on='country_id', how='outer')\n",
    "\n",
    "merged_dim = merged_dim[['country_id', 'country']]\n",
    "\n",
    "merged_dim.columns = ['country_id', 'country']\n",
    "\n",
    "belarus_df = pd.DataFrame({'country_id': [4], 'country': ['Belarus']})\n",
    "\n",
    "merged_dim = pd.concat([belarus_df, merged_dim], ignore_index=True)\n",
    "\n",
    "merged_dim = merged_dim.dropna(subset=['country'])\n",
    "\n",
    "merged_dim = merged_dim.reset_index(drop=True)\n",
    "\n",
    "merged_dim.to_csv(r\"C:\\Users\\Rauan\\practice\\content\\Dim\\MergedDim.csv\", index=False)\n",
    "\n",
    "def match_and_merge_countries(df):\n",
    "    merged_countries = {}\n",
    "    for index, row in df.iterrows():\n",
    "        country_id = row['country_id']\n",
    "        country = row['country']\n",
    "        \n",
    "        if country not in merged_countries:\n",
    "            merged_countries[country] = {'country_id': country_id}\n",
    "        else:\n",
    "            merged_countries[country]['country_id'] = min(merged_countries[country]['country_id'], country_id)\n",
    "            \n",
    "    merged_dim_filtered_unique = pd.DataFrame.from_dict(merged_countries, orient='index').reset_index()\n",
    "    merged_dim_filtered_unique.columns = ['country', 'country_id']\n",
    "    \n",
    "    return merged_dim_filtered_unique\n",
    "\n",
    "merged_dim_filtered_unique = match_and_merge_countries(merged_dim)\n",
    "\n",
    "merged_dim_filtered_unique.to_csv(r\"C:\\Users\\Rauan\\practice\\content\\Dim\\MergedDim.csv\", index=False)\n"
   ]
  },
  {
   "cell_type": "code",
   "execution_count": null,
   "id": "af82697f-2626-481c-aaf4-430e59b0b3ad",
   "metadata": {},
   "outputs": [],
   "source": []
  }
 ],
 "metadata": {
  "kernelspec": {
   "display_name": "Python 3 (ipykernel)",
   "language": "python",
   "name": "python3"
  },
  "language_info": {
   "codemirror_mode": {
    "name": "ipython",
    "version": 3
   },
   "file_extension": ".py",
   "mimetype": "text/x-python",
   "name": "python",
   "nbconvert_exporter": "python",
   "pygments_lexer": "ipython3",
   "version": "3.12.2"
  }
 },
 "nbformat": 4,
 "nbformat_minor": 5
}
