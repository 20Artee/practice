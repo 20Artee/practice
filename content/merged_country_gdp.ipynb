{
 "cells": [
  {
   "cell_type": "code",
   "execution_count": 48,
   "id": "e2938d97-2b4b-4f56-adcb-eec0def963e0",
   "metadata": {},
   "outputs": [],
   "source": [
    "import pandas as pd\n",
    "\n",
    "dim_country = pd.read_csv(r\"C:\\Users\\Rauan\\practice\\content\\Dim\\DimCountry.csv\")\n",
    "dim_country_gdp = pd.read_csv(r\"C:\\Users\\Rauan\\practice\\content\\Dim\\DimCountryGDP.csv\")\n",
    "\n",
    "merged_dim = pd.merge(dim_country, dim_country_gdp, left_on='country_id', right_on='country_id', how='outer')\n",
    "\n",
    "merged_dim = merged_dim[['country_id', 'country', 'country_id', 'country_name']]\n",
    "\n",
    "merged_dim.columns = ['country_id', 'country', 'country_id_gdp', 'country_gdp']\n",
    "\n",
    "merged_dim.to_csv(r\"C:\\Users\\Rauan\\practice\\content\\Dim\\MergedDim.csv\", index=False)"
   ]
  },
  {
   "cell_type": "code",
   "execution_count": 58,
   "id": "070f113e-bc98-493b-aa0b-94f3a84be1cf",
   "metadata": {},
   "outputs": [],
   "source": [
    "def match_and_merge_countries(df):\n",
    "    merged_countries = {}\n",
    "    for index, row in df.iterrows():\n",
    "        country_id = row['country_id']\n",
    "        country = row['country']\n",
    "        country_name = row['country_name']\n",
    "        \n",
    "        if country not in merged_countries:\n",
    "            merged_countries[country] = {'country_id': country_id, 'country_name': country_name}\n",
    "        else:\n",
    "            merged_countries[country]['country_id'] = min(merged_countries[country]['country_id'], country_id)\n",
    "            \n",
    "    merged_dim_filtered_unique = pd.DataFrame.from_dict(merged_countries, orient='index').reset_index()\n",
    "    merged_dim_filtered_unique.columns = ['country', 'country_id', 'country_gdp']\n",
    "    \n",
    "    return merged_dim_filtered_unique"
   ]
  },
  {
   "cell_type": "code",
   "execution_count": 59,
   "id": "79c39728-b08d-4e58-a442-87dd766e607c",
   "metadata": {},
   "outputs": [],
   "source": [
    "merged_dim_filtered_unique = match_and_merge_countries(merged_dim_filtered)\n",
    "\n",
    "merged_dim_filtered_unique.to_csv(r\"C:\\Users\\Rauan\\practice\\content\\Dim\\DimMergedCountries.csv\", index=False)"
   ]
  },
  {
   "cell_type": "code",
   "execution_count": null,
   "id": "41078725-ae3b-403a-99af-a3a4a0e47f84",
   "metadata": {},
   "outputs": [],
   "source": []
  }
 ],
 "metadata": {
  "kernelspec": {
   "display_name": "Python 3 (ipykernel)",
   "language": "python",
   "name": "python3"
  },
  "language_info": {
   "codemirror_mode": {
    "name": "ipython",
    "version": 3
   },
   "file_extension": ".py",
   "mimetype": "text/x-python",
   "name": "python",
   "nbconvert_exporter": "python",
   "pygments_lexer": "ipython3",
   "version": "3.12.2"
  }
 },
 "nbformat": 4,
 "nbformat_minor": 5
}
