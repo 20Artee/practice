{
 "cells": [
  {
   "cell_type": "code",
   "execution_count": 44,
   "id": "bdeb1e49-7e26-446a-a101-7dec18689a63",
   "metadata": {
    "scrolled": true
   },
   "outputs": [],
   "source": [
    "import pandas as pd\n",
    "\n",
    "population_fact = pd.read_csv('Fact/FactPopulation.csv')\n",
    "\n",
    "normalized_population_fact = population_fact[['country_id']]\n",
    "\n",
    "columns_to_normalize = ['1950', '1955', '1960', '1965', '1970 Population',\n",
    "                        '1975', '1980 Population', '1985', '1990 Population',\n",
    "                        '1995', '2000 Population', '2005', '2010 Population',\n",
    "                        '2015 Population', '2020 Population', '2023',\n",
    "                        'World Population Percentage']\n",
    "\n",
    "new_rows = []\n",
    "\n",
    "for year in range(1950, 2024, 5):\n",
    "    for column_name in columns_to_normalize:\n",
    "        if str(year) in column_name:\n",
    "            new_column_name = f'{year}-01-01'\n",
    "            new_row = normalized_population_fact[['country_id']]\n",
    "            new_row['date'] = new_column_name\n",
    "            new_row['population'] = population_fact[column_name]\n",
    "            new_rows.append(new_row)\n",
    "\n",
    "normalized_population_fact = pd.concat(new_rows, ignore_index=True)\n",
    "\n",
    "normalized_population_fact.to_csv('Fact/FactNormalizedPopulation.csv', index=False)\n"
   ]
  },
  {
   "cell_type": "code",
   "execution_count": 43,
   "id": "24bd866a-bd31-42ba-bc0f-4e3d6ffeffc9",
   "metadata": {},
   "outputs": [],
   "source": []
  },
  {
   "cell_type": "code",
   "execution_count": null,
   "id": "fc75b0ed-49c8-4121-bd4b-e935742e984a",
   "metadata": {},
   "outputs": [],
   "source": []
  }
 ],
 "metadata": {
  "kernelspec": {
   "display_name": "Python 3 (ipykernel)",
   "language": "python",
   "name": "python3"
  },
  "language_info": {
   "codemirror_mode": {
    "name": "ipython",
    "version": 3
   },
   "file_extension": ".py",
   "mimetype": "text/x-python",
   "name": "python",
   "nbconvert_exporter": "python",
   "pygments_lexer": "ipython3",
   "version": "3.12.2"
  }
 },
 "nbformat": 4,
 "nbformat_minor": 5
}
