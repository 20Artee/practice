{
 "cells": [
  {
   "cell_type": "code",
   "execution_count": 54,
   "id": "f4a2cd8e-c5ab-4de9-89c1-7e3a1e047843",
   "metadata": {},
   "outputs": [],
   "source": [
    "import pandas as pd\n",
    "import random\n",
    "\n",
    "random_country_ids = random.sample(range(1000, 10000), len(unique_countries))\n",
    "\n",
    "unique_countries['country_id'] = random_country_ids"
   ]
  },
  {
   "cell_type": "code",
   "execution_count": 57,
   "id": "010a3780-5a07-445d-b0fb-1a1b513b62a1",
   "metadata": {},
   "outputs": [],
   "source": [
    "climdf = pd.read_csv('C:/Users/Rauan/practice/data/climate_change_indicators.csv')\n",
    "\n",
    "dim_country['country_id'] = random_country_ids\n",
    "\n",
    "climdf = pd.merge(climdf, unique_countries, on='Country', how='left')\n",
    "\n",
    "dim_country.to_csv('Dim/DimCountryClimate.csv', index=False)"
   ]
  },
  {
   "cell_type": "code",
   "execution_count": 65,
   "id": "a3a9d0fc-444f-42bd-a16f-1f1d0d22277b",
   "metadata": {},
   "outputs": [],
   "source": [
    "dim_country = pd.read_csv('Dim/DimCountryClimate.csv')\n",
    "\n",
    "unique_iso2 = climate_data[['ISO2']].drop_duplicates().reset_index(drop=True)\n",
    "unique_iso3 = climate_data[['ISO3']].drop_duplicates().reset_index(drop=True)\n",
    "\n",
    "dim_iso2 = unique_iso2.merge(dim_country, how='left', left_on='ISO2', right_on='Country')\n",
    "dim_iso3 = unique_iso3.merge(dim_country, how='left', left_on='ISO3', right_on='Country')\n",
    "\n",
    "dim_iso2 = dim_iso2[['country_id', 'ISO2']]\n",
    "dim_iso3 = dim_iso3[['country_id', 'ISO3']]\n",
    "\n",
    "dim_iso2.to_csv('Dim/DimISO2.csv', index=False)\n",
    "dim_iso3.to_csv('Dim/DimISO3.csv', index=False)\n"
   ]
  },
  {
   "cell_type": "code",
   "execution_count": null,
   "id": "05759bcb-c329-4dd5-bba6-ee04ae22cfc0",
   "metadata": {},
   "outputs": [],
   "source": []
  }
 ],
 "metadata": {
  "kernelspec": {
   "display_name": "Python 3 (ipykernel)",
   "language": "python",
   "name": "python3"
  },
  "language_info": {
   "codemirror_mode": {
    "name": "ipython",
    "version": 3
   },
   "file_extension": ".py",
   "mimetype": "text/x-python",
   "name": "python",
   "nbconvert_exporter": "python",
   "pygments_lexer": "ipython3",
   "version": "3.12.2"
  }
 },
 "nbformat": 4,
 "nbformat_minor": 5
}
