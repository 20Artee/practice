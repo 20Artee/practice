{
 "cells": [
  {
   "cell_type": "code",
   "execution_count": 159,
   "id": "79414882-e6f8-4331-8087-7c243bb87156",
   "metadata": {},
   "outputs": [],
   "source": [
    "import pandas as pd\n",
    "\n",
    "# Загрузка данных из climate_change_indicators.csv\n",
    "climate_data = pd.read_csv('C:/Users/Rauan/practice/data/climate_change_indicators.csv')\n",
    "\n",
    "# Выбор нужных столбцов (ObjectId и F1961-F2022)\n",
    "check_data = climate_data[['ObjectId'] + [f'F{i}' for i in range(1961, 2023)]]\n",
    "\n",
    "# Сохранение данных в новый CSV файл CHECK\n",
    "check_data.to_csv('CHECK.csv', index=False)\n"
   ]
  },
  {
   "cell_type": "code",
   "execution_count": null,
   "id": "1bf02673-37a8-4b68-89dc-f6b29d03766f",
   "metadata": {},
   "outputs": [],
   "source": []
  }
 ],
 "metadata": {
  "kernelspec": {
   "display_name": "Python 3 (ipykernel)",
   "language": "python",
   "name": "python3"
  },
  "language_info": {
   "codemirror_mode": {
    "name": "ipython",
    "version": 3
   },
   "file_extension": ".py",
   "mimetype": "text/x-python",
   "name": "python",
   "nbconvert_exporter": "python",
   "pygments_lexer": "ipython3",
   "version": "3.12.2"
  }
 },
 "nbformat": 4,
 "nbformat_minor": 5
}
