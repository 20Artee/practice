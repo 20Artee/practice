{
 "cells": [
  {
   "cell_type": "markdown",
   "id": "7c8d0edb-b7b4-40e3-86d5-fc365879d36a",
   "metadata": {},
   "source": [
    "# Analyzing data for practice"
   ]
  },
  {
   "cell_type": "markdown",
   "id": "79709580-dc60-476b-8fc9-59230afc4691",
   "metadata": {},
   "source": [
    "#### Importing necessary libraries"
   ]
  },
  {
   "cell_type": "code",
   "execution_count": 662,
   "id": "751b1e82-b876-44af-9cf6-1a6913f30f03",
   "metadata": {},
   "outputs": [],
   "source": [
    "import pandas as pd\n",
    "import seaborn as sns\n",
    "import matplotlib.pyplot as plt"
   ]
  },
  {
   "cell_type": "markdown",
   "id": "2f16f7a6-99e8-4b9d-9801-d7d0cb1b3df3",
   "metadata": {},
   "source": [
    "#### Description for World Population"
   ]
  },
  {
   "cell_type": "markdown",
   "id": "2654f224-dc13-418a-8e40-37d166785211",
   "metadata": {},
   "source": [
    "Analyzing World population: reading csv, displaying table. Used displaying info(), displaying describe() the dataframe.Used EDA Analyzing: Checked for missing values, checked for duplicates. Also built up a histogram, corellation matrix and heatmap for '1950', '1955', '1960', '1965', '1985','1995', '2005', '2023' years."
   ]
  },
  {
   "cell_type": "markdown",
   "id": "40106cdd-03d9-4929-a57d-133d6d8a5935",
   "metadata": {},
   "source": [
    "#### Reading csv files"
   ]
  },
  {
   "cell_type": "code",
   "execution_count": 663,
   "id": "aeddd895-5b48-4940-82e0-ad8b7aa8e091",
   "metadata": {},
   "outputs": [],
   "source": [
    "popdf = pd.read_csv(r'C:/Users/Rauan/practice/data/World Population Dataset.csv')"
   ]
  },
  {
   "cell_type": "markdown",
   "id": "cf078cd2-b1fa-4b5b-935b-74d8de723339",
   "metadata": {},
   "source": [
    "#### Displaying table"
   ]
  },
  {
   "cell_type": "code",
   "execution_count": 664,
   "id": "501bda5b-f2e5-45e9-8e77-2e3d260518a4",
   "metadata": {},
   "outputs": [
    {
     "data": {
      "text/html": [
       "<div>\n",
       "<style scoped>\n",
       "    .dataframe tbody tr th:only-of-type {\n",
       "        vertical-align: middle;\n",
       "    }\n",
       "\n",
       "    .dataframe tbody tr th {\n",
       "        vertical-align: top;\n",
       "    }\n",
       "\n",
       "    .dataframe thead th {\n",
       "        text-align: right;\n",
       "    }\n",
       "</style>\n",
       "<table border=\"1\" class=\"dataframe\">\n",
       "  <thead>\n",
       "    <tr style=\"text-align: right;\">\n",
       "      <th></th>\n",
       "      <th>Rank</th>\n",
       "      <th>country</th>\n",
       "      <th>Capital</th>\n",
       "      <th>Continent</th>\n",
       "      <th>Area (km²)</th>\n",
       "      <th>1950</th>\n",
       "      <th>1955</th>\n",
       "      <th>1960</th>\n",
       "      <th>1965</th>\n",
       "      <th>1970 Population</th>\n",
       "      <th>...</th>\n",
       "      <th>1985</th>\n",
       "      <th>1990 Population</th>\n",
       "      <th>1995</th>\n",
       "      <th>2000 Population</th>\n",
       "      <th>2005</th>\n",
       "      <th>2010 Population</th>\n",
       "      <th>2015 Population</th>\n",
       "      <th>2020 Population</th>\n",
       "      <th>2023</th>\n",
       "      <th>World Population Percentage</th>\n",
       "    </tr>\n",
       "  </thead>\n",
       "  <tbody>\n",
       "    <tr>\n",
       "      <th>0</th>\n",
       "      <td>36</td>\n",
       "      <td>Afghanistan</td>\n",
       "      <td>Kabul</td>\n",
       "      <td>Asia</td>\n",
       "      <td>652230</td>\n",
       "      <td>7480461</td>\n",
       "      <td>7971931</td>\n",
       "      <td>8622466</td>\n",
       "      <td>9565147</td>\n",
       "      <td>10752971</td>\n",
       "      <td>...</td>\n",
       "      <td>10512221</td>\n",
       "      <td>10694796</td>\n",
       "      <td>16418912</td>\n",
       "      <td>19542982</td>\n",
       "      <td>24411191</td>\n",
       "      <td>28189672</td>\n",
       "      <td>33753499</td>\n",
       "      <td>38972230</td>\n",
       "      <td>42239854</td>\n",
       "      <td>0.52</td>\n",
       "    </tr>\n",
       "    <tr>\n",
       "      <th>1</th>\n",
       "      <td>138</td>\n",
       "      <td>Albania</td>\n",
       "      <td>Tirana</td>\n",
       "      <td>Europe</td>\n",
       "      <td>28748</td>\n",
       "      <td>1252582</td>\n",
       "      <td>1453730</td>\n",
       "      <td>1711189</td>\n",
       "      <td>2009789</td>\n",
       "      <td>2324731</td>\n",
       "      <td>...</td>\n",
       "      <td>3171725</td>\n",
       "      <td>3295066</td>\n",
       "      <td>3284364</td>\n",
       "      <td>3182021</td>\n",
       "      <td>3032634</td>\n",
       "      <td>2913399</td>\n",
       "      <td>2882481</td>\n",
       "      <td>2866849</td>\n",
       "      <td>2832439</td>\n",
       "      <td>0.04</td>\n",
       "    </tr>\n",
       "    <tr>\n",
       "      <th>2</th>\n",
       "      <td>34</td>\n",
       "      <td>Algeria</td>\n",
       "      <td>Algiers</td>\n",
       "      <td>Africa</td>\n",
       "      <td>2381741</td>\n",
       "      <td>9019866</td>\n",
       "      <td>10242288</td>\n",
       "      <td>11394307</td>\n",
       "      <td>12381256</td>\n",
       "      <td>13795915</td>\n",
       "      <td>...</td>\n",
       "      <td>22132905</td>\n",
       "      <td>25518074</td>\n",
       "      <td>28478022</td>\n",
       "      <td>30774621</td>\n",
       "      <td>32956690</td>\n",
       "      <td>35856344</td>\n",
       "      <td>39543154</td>\n",
       "      <td>43451666</td>\n",
       "      <td>45606480</td>\n",
       "      <td>0.56</td>\n",
       "    </tr>\n",
       "    <tr>\n",
       "      <th>3</th>\n",
       "      <td>213</td>\n",
       "      <td>American Samoa</td>\n",
       "      <td>Pago Pago</td>\n",
       "      <td>Oceania</td>\n",
       "      <td>199</td>\n",
       "      <td>19032</td>\n",
       "      <td>19826</td>\n",
       "      <td>20085</td>\n",
       "      <td>23391</td>\n",
       "      <td>27075</td>\n",
       "      <td>...</td>\n",
       "      <td>39663</td>\n",
       "      <td>47818</td>\n",
       "      <td>53401</td>\n",
       "      <td>58230</td>\n",
       "      <td>57254</td>\n",
       "      <td>54849</td>\n",
       "      <td>51368</td>\n",
       "      <td>46189</td>\n",
       "      <td>43914</td>\n",
       "      <td>0.00</td>\n",
       "    </tr>\n",
       "    <tr>\n",
       "      <th>4</th>\n",
       "      <td>203</td>\n",
       "      <td>Andorra</td>\n",
       "      <td>Andorra la Vella</td>\n",
       "      <td>Europe</td>\n",
       "      <td>468</td>\n",
       "      <td>6005</td>\n",
       "      <td>6116</td>\n",
       "      <td>9443</td>\n",
       "      <td>13563</td>\n",
       "      <td>19860</td>\n",
       "      <td>...</td>\n",
       "      <td>43809</td>\n",
       "      <td>53569</td>\n",
       "      <td>62928</td>\n",
       "      <td>66097</td>\n",
       "      <td>79826</td>\n",
       "      <td>71519</td>\n",
       "      <td>71746</td>\n",
       "      <td>77700</td>\n",
       "      <td>80088</td>\n",
       "      <td>0.00</td>\n",
       "    </tr>\n",
       "  </tbody>\n",
       "</table>\n",
       "<p>5 rows × 22 columns</p>\n",
       "</div>"
      ],
      "text/plain": [
       "   Rank         country           Capital Continent  Area (km²)     1950  \\\n",
       "0    36     Afghanistan             Kabul      Asia      652230  7480461   \n",
       "1   138         Albania            Tirana    Europe       28748  1252582   \n",
       "2    34         Algeria           Algiers    Africa     2381741  9019866   \n",
       "3   213  American Samoa         Pago Pago   Oceania         199    19032   \n",
       "4   203         Andorra  Andorra la Vella    Europe         468     6005   \n",
       "\n",
       "       1955      1960      1965  1970 Population  ...      1985  \\\n",
       "0   7971931   8622466   9565147         10752971  ...  10512221   \n",
       "1   1453730   1711189   2009789          2324731  ...   3171725   \n",
       "2  10242288  11394307  12381256         13795915  ...  22132905   \n",
       "3     19826     20085     23391            27075  ...     39663   \n",
       "4      6116      9443     13563            19860  ...     43809   \n",
       "\n",
       "   1990 Population      1995  2000 Population      2005  2010 Population  \\\n",
       "0         10694796  16418912         19542982  24411191         28189672   \n",
       "1          3295066   3284364          3182021   3032634          2913399   \n",
       "2         25518074  28478022         30774621  32956690         35856344   \n",
       "3            47818     53401            58230     57254            54849   \n",
       "4            53569     62928            66097     79826            71519   \n",
       "\n",
       "   2015 Population  2020 Population      2023  World Population Percentage  \n",
       "0         33753499         38972230  42239854                         0.52  \n",
       "1          2882481          2866849   2832439                         0.04  \n",
       "2         39543154         43451666  45606480                         0.56  \n",
       "3            51368            46189     43914                         0.00  \n",
       "4            71746            77700     80088                         0.00  \n",
       "\n",
       "[5 rows x 22 columns]"
      ]
     },
     "execution_count": 664,
     "metadata": {},
     "output_type": "execute_result"
    }
   ],
   "source": [
    "popdf.head()"
   ]
  },
  {
   "cell_type": "markdown",
   "id": "8e34ef36-49ee-4ee1-a39f-5273b747d872",
   "metadata": {},
   "source": [
    "#### Get info"
   ]
  },
  {
   "cell_type": "code",
   "execution_count": 665,
   "id": "5003e01f-ada3-45a9-bf41-3773416a4e30",
   "metadata": {},
   "outputs": [
    {
     "name": "stdout",
     "output_type": "stream",
     "text": [
      "Population info:\n",
      "<class 'pandas.core.frame.DataFrame'>\n",
      "RangeIndex: 216 entries, 0 to 215\n",
      "Data columns (total 22 columns):\n",
      " #   Column                       Non-Null Count  Dtype  \n",
      "---  ------                       --------------  -----  \n",
      " 0   Rank                         216 non-null    int64  \n",
      " 1   country                      216 non-null    object \n",
      " 2   Capital                      216 non-null    object \n",
      " 3   Continent                    216 non-null    object \n",
      " 4   Area (km²)                   216 non-null    int64  \n",
      " 5   1950                         216 non-null    int64  \n",
      " 6   1955                         216 non-null    int64  \n",
      " 7   1960                         216 non-null    int64  \n",
      " 8   1965                         216 non-null    int64  \n",
      " 9   1970 Population              216 non-null    int64  \n",
      " 10  1975                         216 non-null    int64  \n",
      " 11  1980 Population              216 non-null    int64  \n",
      " 12  1985                         216 non-null    int64  \n",
      " 13  1990 Population              216 non-null    int64  \n",
      " 14  1995                         216 non-null    int64  \n",
      " 15  2000 Population              216 non-null    int64  \n",
      " 16  2005                         216 non-null    int64  \n",
      " 17  2010 Population              216 non-null    int64  \n",
      " 18  2015 Population              216 non-null    int64  \n",
      " 19  2020 Population              216 non-null    int64  \n",
      " 20  2023                         216 non-null    int64  \n",
      " 21  World Population Percentage  216 non-null    float64\n",
      "dtypes: float64(1), int64(18), object(3)\n",
      "memory usage: 37.3+ KB\n",
      "None\n"
     ]
    }
   ],
   "source": [
    "print(\"Population info:\")\n",
    "print(popdf.info())"
   ]
  },
  {
   "cell_type": "markdown",
   "id": "267db5b8-6aa7-4f97-86e4-7e8f498534b2",
   "metadata": {},
   "source": [
    "#### Describe"
   ]
  },
  {
   "cell_type": "code",
   "execution_count": 666,
   "id": "bf3bf2ea-e5c4-477b-b9de-294a03268577",
   "metadata": {},
   "outputs": [
    {
     "name": "stdout",
     "output_type": "stream",
     "text": [
      "Population describe:\n",
      "             Rank    Area (km²)          1950          1955          1960  \\\n",
      "count  216.000000  2.160000e+02  2.160000e+02  2.160000e+02  2.160000e+02   \n",
      "mean   113.365741  6.155476e+05  1.136719e+07  1.247451e+07  1.369687e+07   \n",
      "std     66.512181  1.823356e+06  4.663780e+07  5.164219e+07  5.647642e+07   \n",
      "min      1.000000  2.000000e+00  1.458000e+03  1.629000e+03  1.795000e+03   \n",
      "25%     56.750000  1.062975e+04  1.617745e+05  1.822365e+05  2.075262e+05   \n",
      "50%    111.500000  9.071600e+04  1.951524e+06  2.138310e+06  2.333191e+06   \n",
      "75%    169.250000  4.534312e+05  6.205380e+06  6.995176e+06  7.848276e+06   \n",
      "max    233.000000  1.709824e+07  5.439792e+08  6.033201e+08  6.541707e+08   \n",
      "\n",
      "               1965  1970 Population          1975  1980 Population  \\\n",
      "count  2.160000e+02     2.160000e+02  2.160000e+02     2.160000e+02   \n",
      "mean   1.512177e+07     1.692083e+07  1.841752e+07     2.033511e+07   \n",
      "std    6.256400e+07     7.044206e+07  7.803440e+07     8.497929e+07   \n",
      "min    1.896000e+03     1.714000e+03  1.621000e+03     1.647000e+03   \n",
      "25%    2.355722e+05     2.760342e+05  2.883260e+05     3.272762e+05   \n",
      "50%    2.589718e+06     2.865684e+06  3.194775e+06     3.456296e+06   \n",
      "75%    8.835424e+06     9.285434e+06  9.875034e+06     1.087741e+07   \n",
      "max    7.238463e+08     8.225344e+08  9.151247e+08     9.823725e+08   \n",
      "\n",
      "               1985  1990 Population          1995  2000 Population  \\\n",
      "count  2.160000e+02     2.160000e+02  2.160000e+02     2.160000e+02   \n",
      "mean   2.199344e+07     2.430449e+07  2.597676e+07     2.807026e+07   \n",
      "std    9.251938e+07     1.016518e+08  1.089911e+08     1.160500e+08   \n",
      "min    1.739000e+03     1.669000e+03  1.632000e+03     1.666000e+03   \n",
      "25%    3.663165e+05     3.892800e+05  4.293512e+05     4.525952e+05   \n",
      "50%    3.756226e+06     4.278040e+06  4.600186e+06     4.971608e+06   \n",
      "75%    1.135929e+07     1.331331e+07  1.548371e+07     1.632926e+07   \n",
      "max    1.060240e+09     1.153704e+09  1.218144e+09     1.264099e+09   \n",
      "\n",
      "               2005  2010 Population  2015 Population  2020 Population  \\\n",
      "count  2.160000e+02     2.160000e+02     2.160000e+02     2.160000e+02   \n",
      "mean   2.970061e+07     3.182926e+07     3.379676e+07     3.562873e+07   \n",
      "std    1.224011e+08     1.290366e+08     1.354448e+08     1.408039e+08   \n",
      "min    1.429000e+03     1.367000e+03     1.454000e+03     1.827000e+03   \n",
      "25%    5.103718e+05     5.355985e+05     5.739582e+05     6.235522e+05   \n",
      "50%    5.311156e+06     5.517312e+06     6.046465e+06     6.271584e+06   \n",
      "75%    1.895687e+07     2.093418e+07     2.175568e+07     2.394951e+07   \n",
      "max    1.304888e+09     1.348191e+09     1.393715e+09     1.424930e+09   \n",
      "\n",
      "               2023  World Population Percentage  \n",
      "count  2.160000e+02                   216.000000  \n",
      "mean   3.655425e+07                     0.453935  \n",
      "std    1.426907e+08                     1.780732  \n",
      "min    1.893000e+03                     0.000000  \n",
      "25%    6.256728e+05                     0.010000  \n",
      "50%    6.440522e+06                     0.080000  \n",
      "75%    2.448266e+07                     0.307500  \n",
      "max    1.428628e+09                    17.880000  \n"
     ]
    }
   ],
   "source": [
    "print(\"Population describe:\")\n",
    "print(popdf.describe())"
   ]
  },
  {
   "cell_type": "markdown",
   "id": "b1fe8c96-78c2-442a-9907-e9a100513bb8",
   "metadata": {},
   "source": [
    "#### Checking missing values"
   ]
  },
  {
   "cell_type": "code",
   "execution_count": 667,
   "id": "6b031b09-ff38-4857-9697-557ac06506a4",
   "metadata": {},
   "outputs": [
    {
     "name": "stdout",
     "output_type": "stream",
     "text": [
      "Checking missing values: \n",
      "Rank                           0\n",
      "country                        0\n",
      "Capital                        0\n",
      "Continent                      0\n",
      "Area (km²)                     0\n",
      "1950                           0\n",
      "1955                           0\n",
      "1960                           0\n",
      "1965                           0\n",
      "1970 Population                0\n",
      "1975                           0\n",
      "1980 Population                0\n",
      "1985                           0\n",
      "1990 Population                0\n",
      "1995                           0\n",
      "2000 Population                0\n",
      "2005                           0\n",
      "2010 Population                0\n",
      "2015 Population                0\n",
      "2020 Population                0\n",
      "2023                           0\n",
      "World Population Percentage    0\n",
      "dtype: int64\n"
     ]
    }
   ],
   "source": [
    "print(\"Checking missing values: \")\n",
    "print(popdf.isnull().sum())"
   ]
  },
  {
   "cell_type": "markdown",
   "id": "c7755e7f-0418-4a9a-be8c-9e60adc5a93e",
   "metadata": {},
   "source": [
    "#### Checking for duplicates"
   ]
  },
  {
   "cell_type": "code",
   "execution_count": 668,
   "id": "4d4e5eec-955d-429a-a688-4ef3d9ef77b2",
   "metadata": {},
   "outputs": [
    {
     "name": "stdout",
     "output_type": "stream",
     "text": [
      "Checking for duplicates: \n",
      "0\n"
     ]
    }
   ],
   "source": [
    "print(\"Checking for duplicates: \")\n",
    "print(popdf.duplicated().sum())"
   ]
  },
  {
   "cell_type": "markdown",
   "id": "d920aa00-76bb-4a91-9de5-183b62b4fa1d",
   "metadata": {},
   "source": [
    "#### Showing histogram"
   ]
  },
  {
   "cell_type": "code",
   "execution_count": 669,
   "id": "acd296f4-f625-4991-93aa-2f1aca735972",
   "metadata": {},
   "outputs": [
    {
     "name": "stderr",
     "output_type": "stream",
     "text": [
      "E:\\anaconda\\envs\\de\\Lib\\site-packages\\seaborn\\_oldcore.py:1119: FutureWarning: use_inf_as_na option is deprecated and will be removed in a future version. Convert inf values to NaN before operating instead.\n",
      "  with pd.option_context('mode.use_inf_as_na', True):\n"
     ]
    },
    {
     "data": {
      "image/png": "[encoded data removed]",
      "text/plain": [
       "<Figure size 1000x400 with 1 Axes>"
      ]
     },
     "metadata": {},
     "output_type": "display_data"
    }
   ],
   "source": [
    "population_column = '2023'\n",
    "\n",
    "plt.figure(figsize = (10, 4))\n",
    "sns.histplot(popdf[population_column], bins = 20, kde = True)\n",
    "plt.title('Population Distribution in 2023')\n",
    "plt.xlabel('Population')\n",
    "plt.ylabel('Frequency')\n",
    "plt.show()"
   ]
  },
  {
   "cell_type": "markdown",
   "id": "36dd5506-7fdf-489b-b46d-fc4c8b23e134",
   "metadata": {},
   "source": [
    "#### Heatmap of Population"
   ]
  },
  {
   "cell_type": "code",
   "execution_count": 670,
   "id": "c0686d39-2d61-4d2c-b54b-c86812ab325b",
   "metadata": {},
   "outputs": [
    {
     "data": {
      "image/png": "[encoded data removed]",
      "text/plain": [
       "<Figure size 1000x600 with 2 Axes>"
      ]
     },
     "metadata": {},
     "output_type": "display_data"
    }
   ],
   "source": [
    "columns_to_analyze = ['1950', '1955', '1960', '1965', '1985','1995', '2005', '2023']\n",
    "\n",
    "correlation_matrix = popdf[columns_to_analyze].corr()\n",
    "\n",
    "plt.figure(figsize=(10, 6))\n",
    "sns.heatmap(correlation_matrix, annot = True , cmap = 'coolwarm', fmt = \".2f\")\n",
    "plt.title('Correlation Matrix of Population')\n",
    "plt.show()"
   ]
  },
  {
   "cell_type": "markdown",
   "id": "ad81fbe6-ba6f-4cfe-9565-4a3c6d504dee",
   "metadata": {},
   "source": [
    "#### Corellation matrix"
   ]
  },
  {
   "cell_type": "code",
   "execution_count": 671,
   "id": "a0eab6ce-bd52-4be1-9cf6-45295f2fe2a9",
   "metadata": {},
   "outputs": [
    {
     "name": "stdout",
     "output_type": "stream",
     "text": [
      "          1950      1955      1960      1965      1985      1995      2005  \\\n",
      "1950  1.000000  0.999866  0.999460  0.998815  0.992443  0.986838  0.977371   \n",
      "1955  0.999866  1.000000  0.999814  0.999404  0.994037  0.988824  0.979695   \n",
      "1960  0.999460  0.999814  1.000000  0.999853  0.995587  0.991108  0.982924   \n",
      "1965  0.998815  0.999404  0.999853  1.000000  0.996998  0.993100  0.985513   \n",
      "1985  0.992443  0.994037  0.995587  0.996998  1.000000  0.998966  0.994424   \n",
      "1995  0.986838  0.988824  0.991108  0.993100  0.998966  1.000000  0.998104   \n",
      "2005  0.977371  0.979695  0.982924  0.985513  0.994424  0.998104  1.000000   \n",
      "2023  0.959655  0.962360  0.966685  0.969971  0.982715  0.989756  0.996477   \n",
      "\n",
      "          2023  \n",
      "1950  0.959655  \n",
      "1955  0.962360  \n",
      "1960  0.966685  \n",
      "1965  0.969971  \n",
      "1985  0.982715  \n",
      "1995  0.989756  \n",
      "2005  0.996477  \n",
      "2023  1.000000  \n"
     ]
    }
   ],
   "source": [
    "print(correlation_matrix)"
   ]
  },
  {
   "cell_type": "markdown",
   "id": "813ab9cb-ada9-4c35-b606-50bf5f048a83",
   "metadata": {},
   "source": [
    "#### Description for World GDP\n"
   ]
  },
  {
   "cell_type": "markdown",
   "id": "9e727617-7ebd-4fd9-837c-e50c2b40ef15",
   "metadata": {},
   "source": [
    "Analyzing World GDP: reading csv, displaying table. Used displaying info(), displaying describe() the dataframe.Used EDA Analyzing: Checked for missing values, checked for duplicates. Also built up a histogram, corellation matrix and heatmap for 'F1965', 'F1970', 'F1975', 'F1980', 'F1985', 'F1990', 'F1995', 'F2000', 'F2005', 'F2010', 'F2015', 'F2020', 'F2022' sections."
   ]
  },
  {
   "cell_type": "markdown",
   "id": "54570bba-ac2a-467c-996d-cc82ad24dad3",
   "metadata": {},
   "source": [
    "#### Reading csv files"
   ]
  },
  {
   "cell_type": "code",
   "execution_count": 672,
   "id": "ac91f52e-f44d-4c27-a71b-ba9d1c2b2c3e",
   "metadata": {},
   "outputs": [],
   "source": [
    "climdf = pd.read_csv(r'C:/Users/Rauan/practice/data/climate_change_indicators.csv')"
   ]
  },
  {
   "cell_type": "markdown",
   "id": "fa8f71b1-54f0-4273-b73d-993c6ca8ab81",
   "metadata": {},
   "source": [
    "#### Displaying table"
   ]
  },
  {
   "cell_type": "code",
   "execution_count": 673,
   "id": "d626f01b-5527-4d93-9c57-de0c3691c4f6",
   "metadata": {},
   "outputs": [
    {
     "data": {
      "text/html": [
       "<div>\n",
       "<style scoped>\n",
       "    .dataframe tbody tr th:only-of-type {\n",
       "        vertical-align: middle;\n",
       "    }\n",
       "\n",
       "    .dataframe tbody tr th {\n",
       "        vertical-align: top;\n",
       "    }\n",
       "\n",
       "    .dataframe thead th {\n",
       "        text-align: right;\n",
       "    }\n",
       "</style>\n",
       "<table border=\"1\" class=\"dataframe\">\n",
       "  <thead>\n",
       "    <tr style=\"text-align: right;\">\n",
       "      <th></th>\n",
       "      <th>ObjectId</th>\n",
       "      <th>Country</th>\n",
       "      <th>ISO2</th>\n",
       "      <th>ISO3</th>\n",
       "      <th>Indicator</th>\n",
       "      <th>Unit</th>\n",
       "      <th>Source</th>\n",
       "      <th>CTS_Code</th>\n",
       "      <th>CTS_Name</th>\n",
       "      <th>CTS_Full_Descriptor</th>\n",
       "      <th>...</th>\n",
       "      <th>F2013</th>\n",
       "      <th>F2014</th>\n",
       "      <th>F2015</th>\n",
       "      <th>F2016</th>\n",
       "      <th>F2017</th>\n",
       "      <th>F2018</th>\n",
       "      <th>F2019</th>\n",
       "      <th>F2020</th>\n",
       "      <th>F2021</th>\n",
       "      <th>F2022</th>\n",
       "    </tr>\n",
       "  </thead>\n",
       "  <tbody>\n",
       "    <tr>\n",
       "      <th>0</th>\n",
       "      <td>1</td>\n",
       "      <td>Afghanistan, Islamic Rep. of</td>\n",
       "      <td>AF</td>\n",
       "      <td>AFG</td>\n",
       "      <td>Temperature change with respect to a baseline ...</td>\n",
       "      <td>Degree Celsius</td>\n",
       "      <td>Food and Agriculture Organization of the Unite...</td>\n",
       "      <td>ECCS</td>\n",
       "      <td>Surface Temperature Change</td>\n",
       "      <td>Environment, Climate Change, Climate Indicator...</td>\n",
       "      <td>...</td>\n",
       "      <td>1.281</td>\n",
       "      <td>0.456</td>\n",
       "      <td>1.093</td>\n",
       "      <td>1.555</td>\n",
       "      <td>1.540</td>\n",
       "      <td>1.544</td>\n",
       "      <td>0.910</td>\n",
       "      <td>0.498</td>\n",
       "      <td>1.327</td>\n",
       "      <td>2.012</td>\n",
       "    </tr>\n",
       "    <tr>\n",
       "      <th>1</th>\n",
       "      <td>2</td>\n",
       "      <td>Albania</td>\n",
       "      <td>AL</td>\n",
       "      <td>ALB</td>\n",
       "      <td>Temperature change with respect to a baseline ...</td>\n",
       "      <td>Degree Celsius</td>\n",
       "      <td>Food and Agriculture Organization of the Unite...</td>\n",
       "      <td>ECCS</td>\n",
       "      <td>Surface Temperature Change</td>\n",
       "      <td>Environment, Climate Change, Climate Indicator...</td>\n",
       "      <td>...</td>\n",
       "      <td>1.333</td>\n",
       "      <td>1.198</td>\n",
       "      <td>1.569</td>\n",
       "      <td>1.464</td>\n",
       "      <td>1.121</td>\n",
       "      <td>2.028</td>\n",
       "      <td>1.675</td>\n",
       "      <td>1.498</td>\n",
       "      <td>1.536</td>\n",
       "      <td>1.518</td>\n",
       "    </tr>\n",
       "    <tr>\n",
       "      <th>2</th>\n",
       "      <td>3</td>\n",
       "      <td>Algeria</td>\n",
       "      <td>DZ</td>\n",
       "      <td>DZA</td>\n",
       "      <td>Temperature change with respect to a baseline ...</td>\n",
       "      <td>Degree Celsius</td>\n",
       "      <td>Food and Agriculture Organization of the Unite...</td>\n",
       "      <td>ECCS</td>\n",
       "      <td>Surface Temperature Change</td>\n",
       "      <td>Environment, Climate Change, Climate Indicator...</td>\n",
       "      <td>...</td>\n",
       "      <td>1.192</td>\n",
       "      <td>1.690</td>\n",
       "      <td>1.121</td>\n",
       "      <td>1.757</td>\n",
       "      <td>1.512</td>\n",
       "      <td>1.210</td>\n",
       "      <td>1.115</td>\n",
       "      <td>1.926</td>\n",
       "      <td>2.330</td>\n",
       "      <td>1.688</td>\n",
       "    </tr>\n",
       "    <tr>\n",
       "      <th>3</th>\n",
       "      <td>4</td>\n",
       "      <td>American Samoa</td>\n",
       "      <td>AS</td>\n",
       "      <td>ASM</td>\n",
       "      <td>Temperature change with respect to a baseline ...</td>\n",
       "      <td>Degree Celsius</td>\n",
       "      <td>Food and Agriculture Organization of the Unite...</td>\n",
       "      <td>ECCS</td>\n",
       "      <td>Surface Temperature Change</td>\n",
       "      <td>Environment, Climate Change, Climate Indicator...</td>\n",
       "      <td>...</td>\n",
       "      <td>1.257</td>\n",
       "      <td>1.170</td>\n",
       "      <td>1.009</td>\n",
       "      <td>1.539</td>\n",
       "      <td>1.435</td>\n",
       "      <td>1.189</td>\n",
       "      <td>1.539</td>\n",
       "      <td>1.430</td>\n",
       "      <td>1.268</td>\n",
       "      <td>1.256</td>\n",
       "    </tr>\n",
       "    <tr>\n",
       "      <th>4</th>\n",
       "      <td>5</td>\n",
       "      <td>Andorra, Principality of</td>\n",
       "      <td>AD</td>\n",
       "      <td>AND</td>\n",
       "      <td>Temperature change with respect to a baseline ...</td>\n",
       "      <td>Degree Celsius</td>\n",
       "      <td>Food and Agriculture Organization of the Unite...</td>\n",
       "      <td>ECCS</td>\n",
       "      <td>Surface Temperature Change</td>\n",
       "      <td>Environment, Climate Change, Climate Indicator...</td>\n",
       "      <td>...</td>\n",
       "      <td>0.831</td>\n",
       "      <td>1.946</td>\n",
       "      <td>1.690</td>\n",
       "      <td>1.990</td>\n",
       "      <td>1.925</td>\n",
       "      <td>1.919</td>\n",
       "      <td>1.964</td>\n",
       "      <td>2.562</td>\n",
       "      <td>1.533</td>\n",
       "      <td>3.243</td>\n",
       "    </tr>\n",
       "  </tbody>\n",
       "</table>\n",
       "<p>5 rows × 72 columns</p>\n",
       "</div>"
      ],
      "text/plain": [
       "   ObjectId                       Country ISO2 ISO3  \\\n",
       "0         1  Afghanistan, Islamic Rep. of   AF  AFG   \n",
       "1         2                       Albania   AL  ALB   \n",
       "2         3                       Algeria   DZ  DZA   \n",
       "3         4                American Samoa   AS  ASM   \n",
       "4         5      Andorra, Principality of   AD  AND   \n",
       "\n",
       "                                           Indicator            Unit  \\\n",
       "0  Temperature change with respect to a baseline ...  Degree Celsius   \n",
       "1  Temperature change with respect to a baseline ...  Degree Celsius   \n",
       "2  Temperature change with respect to a baseline ...  Degree Celsius   \n",
       "3  Temperature change with respect to a baseline ...  Degree Celsius   \n",
       "4  Temperature change with respect to a baseline ...  Degree Celsius   \n",
       "\n",
       "                                              Source CTS_Code  \\\n",
       "0  Food and Agriculture Organization of the Unite...     ECCS   \n",
       "1  Food and Agriculture Organization of the Unite...     ECCS   \n",
       "2  Food and Agriculture Organization of the Unite...     ECCS   \n",
       "3  Food and Agriculture Organization of the Unite...     ECCS   \n",
       "4  Food and Agriculture Organization of the Unite...     ECCS   \n",
       "\n",
       "                     CTS_Name  \\\n",
       "0  Surface Temperature Change   \n",
       "1  Surface Temperature Change   \n",
       "2  Surface Temperature Change   \n",
       "3  Surface Temperature Change   \n",
       "4  Surface Temperature Change   \n",
       "\n",
       "                                 CTS_Full_Descriptor  ...  F2013  F2014  \\\n",
       "0  Environment, Climate Change, Climate Indicator...  ...  1.281  0.456   \n",
       "1  Environment, Climate Change, Climate Indicator...  ...  1.333  1.198   \n",
       "2  Environment, Climate Change, Climate Indicator...  ...  1.192  1.690   \n",
       "3  Environment, Climate Change, Climate Indicator...  ...  1.257  1.170   \n",
       "4  Environment, Climate Change, Climate Indicator...  ...  0.831  1.946   \n",
       "\n",
       "   F2015  F2016  F2017  F2018  F2019  F2020  F2021  F2022  \n",
       "0  1.093  1.555  1.540  1.544  0.910  0.498  1.327  2.012  \n",
       "1  1.569  1.464  1.121  2.028  1.675  1.498  1.536  1.518  \n",
       "2  1.121  1.757  1.512  1.210  1.115  1.926  2.330  1.688  \n",
       "3  1.009  1.539  1.435  1.189  1.539  1.430  1.268  1.256  \n",
       "4  1.690  1.990  1.925  1.919  1.964  2.562  1.533  3.243  \n",
       "\n",
       "[5 rows x 72 columns]"
      ]
     },
     "execution_count": 673,
     "metadata": {},
     "output_type": "execute_result"
    }
   ],
   "source": [
    "climdf.head()"
   ]
  },
  {
   "cell_type": "markdown",
   "id": "e22131c7-1cac-44bf-ab38-6dbc552df1f2",
   "metadata": {},
   "source": [
    "#### Get Info"
   ]
  },
  {
   "cell_type": "code",
   "execution_count": 674,
   "id": "271f5de5-d942-4cdb-9c7e-729e8454f491",
   "metadata": {
    "scrolled": true
   },
   "outputs": [
    {
     "name": "stdout",
     "output_type": "stream",
     "text": [
      "Climate Change Indicators Info:\n",
      "<class 'pandas.core.frame.DataFrame'>\n",
      "RangeIndex: 225 entries, 0 to 224\n",
      "Data columns (total 72 columns):\n",
      " #   Column               Non-Null Count  Dtype  \n",
      "---  ------               --------------  -----  \n",
      " 0   ObjectId             225 non-null    int64  \n",
      " 1   Country              225 non-null    object \n",
      " 2   ISO2                 223 non-null    object \n",
      " 3   ISO3                 225 non-null    object \n",
      " 4   Indicator            225 non-null    object \n",
      " 5   Unit                 225 non-null    object \n",
      " 6   Source               225 non-null    object \n",
      " 7   CTS_Code             225 non-null    object \n",
      " 8   CTS_Name             225 non-null    object \n",
      " 9   CTS_Full_Descriptor  225 non-null    object \n",
      " 10  F1961                188 non-null    float64\n",
      " 11  F1962                189 non-null    float64\n",
      " 12  F1963                188 non-null    float64\n",
      " 13  F1964                188 non-null    float64\n",
      " 14  F1965                188 non-null    float64\n",
      " 15  F1966                192 non-null    float64\n",
      " 16  F1967                191 non-null    float64\n",
      " 17  F1968                191 non-null    float64\n",
      " 18  F1969                190 non-null    float64\n",
      " 19  F1970                189 non-null    float64\n",
      " 20  F1971                191 non-null    float64\n",
      " 21  F1972                192 non-null    float64\n",
      " 22  F1973                193 non-null    float64\n",
      " 23  F1974                192 non-null    float64\n",
      " 24  F1975                188 non-null    float64\n",
      " 25  F1976                189 non-null    float64\n",
      " 26  F1977                185 non-null    float64\n",
      " 27  F1978                189 non-null    float64\n",
      " 28  F1979                189 non-null    float64\n",
      " 29  F1980                191 non-null    float64\n",
      " 30  F1981                191 non-null    float64\n",
      " 31  F1982                192 non-null    float64\n",
      " 32  F1983                190 non-null    float64\n",
      " 33  F1984                188 non-null    float64\n",
      " 34  F1985                188 non-null    float64\n",
      " 35  F1986                190 non-null    float64\n",
      " 36  F1987                190 non-null    float64\n",
      " 37  F1988                190 non-null    float64\n",
      " 38  F1989                190 non-null    float64\n",
      " 39  F1990                189 non-null    float64\n",
      " 40  F1991                188 non-null    float64\n",
      " 41  F1992                208 non-null    float64\n",
      " 42  F1993                209 non-null    float64\n",
      " 43  F1994                208 non-null    float64\n",
      " 44  F1995                210 non-null    float64\n",
      " 45  F1996                210 non-null    float64\n",
      " 46  F1997                207 non-null    float64\n",
      " 47  F1998                210 non-null    float64\n",
      " 48  F1999                209 non-null    float64\n",
      " 49  F2000                209 non-null    float64\n",
      " 50  F2001                208 non-null    float64\n",
      " 51  F2002                212 non-null    float64\n",
      " 52  F2003                214 non-null    float64\n",
      " 53  F2004                213 non-null    float64\n",
      " 54  F2005                212 non-null    float64\n",
      " 55  F2006                215 non-null    float64\n",
      " 56  F2007                217 non-null    float64\n",
      " 57  F2008                212 non-null    float64\n",
      " 58  F2009                212 non-null    float64\n",
      " 59  F2010                215 non-null    float64\n",
      " 60  F2011                217 non-null    float64\n",
      " 61  F2012                215 non-null    float64\n",
      " 62  F2013                216 non-null    float64\n",
      " 63  F2014                216 non-null    float64\n",
      " 64  F2015                216 non-null    float64\n",
      " 65  F2016                213 non-null    float64\n",
      " 66  F2017                214 non-null    float64\n",
      " 67  F2018                213 non-null    float64\n",
      " 68  F2019                213 non-null    float64\n",
      " 69  F2020                212 non-null    float64\n",
      " 70  F2021                213 non-null    float64\n",
      " 71  F2022                213 non-null    float64\n",
      "dtypes: float64(62), int64(1), object(9)\n",
      "memory usage: 126.7+ KB\n",
      "None\n"
     ]
    }
   ],
   "source": [
    "print(\"Climate Change Indicators Info:\")\n",
    "print(climdf.info())"
   ]
  },
  {
   "cell_type": "markdown",
   "id": "d3107824-0264-434b-84d2-972f56bbb74e",
   "metadata": {},
   "source": [
    "#### Describe"
   ]
  },
  {
   "cell_type": "code",
   "execution_count": 675,
   "id": "2c5c4614-adf7-47ec-9c9d-022fbb3bee24",
   "metadata": {},
   "outputs": [
    {
     "name": "stdout",
     "output_type": "stream",
     "text": [
      "Climate Change Indicators Describe:\n",
      "         ObjectId       F1961       F1962       F1963       F1964       F1965  \\\n",
      "count  225.000000  188.000000  189.000000  188.000000  188.000000  188.000000   \n",
      "mean   113.000000    0.163053   -0.013476   -0.006043   -0.070059   -0.247027   \n",
      "std     65.096083    0.405080    0.341812    0.387348    0.309305    0.270734   \n",
      "min      1.000000   -0.694000   -0.908000   -1.270000   -0.877000   -1.064000   \n",
      "25%     57.000000   -0.097000   -0.164000   -0.205500   -0.236500   -0.392500   \n",
      "50%    113.000000    0.064500   -0.056000   -0.003000   -0.056000   -0.230500   \n",
      "75%    169.000000    0.318500    0.114000    0.230500    0.132500   -0.091500   \n",
      "max    225.000000    1.892000    0.998000    1.202000    1.097000    0.857000   \n",
      "\n",
      "            F1966       F1967       F1968       F1969  ...       F2013  \\\n",
      "count  192.000000  191.000000  191.000000  190.000000  ...  216.000000   \n",
      "mean     0.105505   -0.110832   -0.199110    0.157942  ...    0.931199   \n",
      "std      0.378423    0.339484    0.270131    0.308540  ...    0.321595   \n",
      "min     -1.801000   -1.048000   -1.634000   -0.900000  ...    0.118000   \n",
      "25%     -0.035750   -0.259500   -0.340000   -0.009000  ...    0.743500   \n",
      "50%      0.098000   -0.146000   -0.187000    0.204000  ...    0.897000   \n",
      "75%      0.277000    0.015000   -0.067000    0.349000  ...    1.187500   \n",
      "max      1.151000    1.134000    0.476000    0.939000  ...    1.643000   \n",
      "\n",
      "            F2014       F2015       F2016       F2017       F2018       F2019  \\\n",
      "count  216.000000  216.000000  213.000000  214.000000  213.000000  213.000000   \n",
      "mean     1.114815    1.269773    1.439521    1.280785    1.302113    1.443061   \n",
      "std      0.564903    0.462162    0.401091    0.393999    0.596786    0.467510   \n",
      "min     -0.092000   -0.430000    0.250000    0.017000    0.238000    0.050000   \n",
      "25%      0.744000    1.017750    1.147000    1.027500    0.865000    1.169000   \n",
      "50%      0.986500    1.215000    1.446000    1.282000    1.125000    1.412000   \n",
      "75%      1.335500    1.520500    1.714000    1.535000    1.834000    1.698000   \n",
      "max      2.704000    2.613000    2.459000    2.493000    2.772000    2.689000   \n",
      "\n",
      "            F2020       F2021       F2022  \n",
      "count  212.000000  213.000000  213.000000  \n",
      "mean     1.552038    1.343531    1.382113  \n",
      "std      0.621930    0.484692    0.669279  \n",
      "min      0.229000   -0.425000   -1.305000  \n",
      "25%      1.161750    1.019000    0.878000  \n",
      "50%      1.477000    1.327000    1.315000  \n",
      "75%      1.826250    1.629000    1.918000  \n",
      "max      3.691000    2.676000    3.243000  \n",
      "\n",
      "[8 rows x 63 columns]\n"
     ]
    }
   ],
   "source": [
    "print(\"Climate Change Indicators Describe:\")\n",
    "print(climdf.describe())"
   ]
  },
  {
   "cell_type": "markdown",
   "id": "f500ad8c-c759-4ca0-ab0c-2822a4282e1a",
   "metadata": {},
   "source": [
    "#### Checking missing values"
   ]
  },
  {
   "cell_type": "code",
   "execution_count": 676,
   "id": "47cb28b6-75cb-4776-8034-ab82c9348f6c",
   "metadata": {},
   "outputs": [
    {
     "name": "stdout",
     "output_type": "stream",
     "text": [
      "Checking missing values: \n",
      "ObjectId      0\n",
      "Country       0\n",
      "ISO2          2\n",
      "ISO3          0\n",
      "Indicator     0\n",
      "             ..\n",
      "F2018        12\n",
      "F2019        12\n",
      "F2020        13\n",
      "F2021        12\n",
      "F2022        12\n",
      "Length: 72, dtype: int64\n"
     ]
    }
   ],
   "source": [
    "print(\"Checking missing values: \")\n",
    "print(climdf.isnull().sum())"
   ]
  },
  {
   "cell_type": "markdown",
   "id": "831f43d7-cc2a-4524-a035-a7daebd4f182",
   "metadata": {},
   "source": [
    "#### Checking for duplicates"
   ]
  },
  {
   "cell_type": "code",
   "execution_count": 677,
   "id": "add5b9e6-37c6-45b3-a508-a44546f9239b",
   "metadata": {},
   "outputs": [
    {
     "name": "stdout",
     "output_type": "stream",
     "text": [
      "Checking for duplicates: \n",
      "0\n"
     ]
    }
   ],
   "source": [
    "print(\"Checking for duplicates: \")\n",
    "print(climdf.duplicated().sum())"
   ]
  },
  {
   "cell_type": "markdown",
   "id": "ffeeb577-301c-4473-8095-d977fb6cc093",
   "metadata": {},
   "source": [
    "#### Showing Histogram"
   ]
  },
  {
   "cell_type": "code",
   "execution_count": 678,
   "id": "d1cfe9f1-16ad-4043-abde-0c05d9f51e2e",
   "metadata": {},
   "outputs": [
    {
     "name": "stderr",
     "output_type": "stream",
     "text": [
      "E:\\anaconda\\envs\\de\\Lib\\site-packages\\seaborn\\_oldcore.py:1119: FutureWarning: use_inf_as_na option is deprecated and will be removed in a future version. Convert inf values to NaN before operating instead.\n",
      "  with pd.option_context('mode.use_inf_as_na', True):\n"
     ]
    },
    {
     "data": {
      "image/png": "[encoded data removed]",
      "text/plain": [
       "<Figure size 1000x600 with 1 Axes>"
      ]
     },
     "metadata": {},
     "output_type": "display_data"
    }
   ],
   "source": [
    "indicator_column = 'F2022'\n",
    "\n",
    "plt.figure(figsize = (10, 6))\n",
    "sns.histplot(climdf[indicator_column], bins = 20, kde = True)\n",
    "plt.title('Distribution of CCI 2022')\n",
    "plt.xlabel('Value')\n",
    "plt.ylabel('Frequency')\n",
    "plt.show()"
   ]
  },
  {
   "cell_type": "markdown",
   "id": "d51812fa-3203-474c-884f-96e64d92f630",
   "metadata": {},
   "source": [
    "#### Heatmap of CCI"
   ]
  },
  {
   "cell_type": "code",
   "execution_count": 679,
   "id": "ad46c4c2-e1b2-4ade-a4b4-ae5d6d905afa",
   "metadata": {},
   "outputs": [
    {
     "data": {
      "image/png": "[encoded data removed]",
      "text/plain": [
       "<Figure size 1000x800 with 2 Axes>"
      ]
     },
     "metadata": {},
     "output_type": "display_data"
    }
   ],
   "source": [
    "indicator_columns = ['F1965', 'F1970', 'F1975', 'F1980', 'F1985', 'F1990', 'F1995', 'F2000', 'F2005', 'F2010', 'F2015', 'F2020', 'F2022']\n",
    "\n",
    "correlation_matrix1 = climdf[indicator_columns].corr()\n",
    "plt.figure(figsize=(10, 8))\n",
    "sns.heatmap(correlation_matrix1, cmap='coolwarm', annot=True, fmt=\".2f\")\n",
    "plt.title('Correlation Matrix for Climate Change Indicators')\n",
    "plt.xlabel('Indicator Year')\n",
    "plt.ylabel('Indicator Year')\n",
    "plt.yticks(rotation=0)\n",
    "plt.show()"
   ]
  },
  {
   "cell_type": "markdown",
   "id": "7afe6495-96ea-4c8d-92c4-18174b762b07",
   "metadata": {},
   "source": [
    "#### Corellation matrix"
   ]
  },
  {
   "cell_type": "code",
   "execution_count": 680,
   "id": "50b21992-63a2-4c9d-a62f-c94dcb46cc06",
   "metadata": {},
   "outputs": [
    {
     "name": "stdout",
     "output_type": "stream",
     "text": [
      "          F1965     F1970     F1975     F1980     F1985     F1990     F1995  \\\n",
      "F1965  1.000000  0.119742 -0.378345  0.278513  0.342402 -0.318707 -0.294387   \n",
      "F1970  0.119742  1.000000 -0.630871  0.343418  0.423270 -0.433634 -0.237216   \n",
      "F1975 -0.378345 -0.630871  1.000000 -0.436552 -0.515532  0.564757  0.475498   \n",
      "F1980  0.278513  0.343418 -0.436552  1.000000  0.479390 -0.276334  0.082255   \n",
      "F1985  0.342402  0.423270 -0.515532  0.479390  1.000000 -0.177963 -0.146247   \n",
      "F1990 -0.318707 -0.433634  0.564757 -0.276334 -0.177963  1.000000  0.634223   \n",
      "F1995 -0.294387 -0.237216  0.475498  0.082255 -0.146247  0.634223  1.000000   \n",
      "F2000 -0.367641 -0.345063  0.528021 -0.362927 -0.428816  0.599160  0.426056   \n",
      "F2005  0.016608 -0.141591  0.177805  0.319189 -0.006327  0.308861  0.586959   \n",
      "F2010  0.208125  0.478983 -0.580103  0.259886  0.337306 -0.327559 -0.192847   \n",
      "F2015  0.014834 -0.257345  0.410401 -0.236002 -0.208306  0.472864  0.409984   \n",
      "F2020 -0.142500 -0.545204  0.585830 -0.329170 -0.381103  0.596450  0.571921   \n",
      "F2022 -0.289095 -0.291240  0.449108 -0.370509 -0.236886  0.570507  0.355406   \n",
      "\n",
      "          F2000     F2005     F2010     F2015     F2020     F2022  \n",
      "F1965 -0.367641  0.016608  0.208125  0.014834 -0.142500 -0.289095  \n",
      "F1970 -0.345063 -0.141591  0.478983 -0.257345 -0.545204 -0.291240  \n",
      "F1975  0.528021  0.177805 -0.580103  0.410401  0.585830  0.449108  \n",
      "F1980 -0.362927  0.319189  0.259886 -0.236002 -0.329170 -0.370509  \n",
      "F1985 -0.428816 -0.006327  0.337306 -0.208306 -0.381103 -0.236886  \n",
      "F1990  0.599160  0.308861 -0.327559  0.472864  0.596450  0.570507  \n",
      "F1995  0.426056  0.586959 -0.192847  0.409984  0.571921  0.355406  \n",
      "F2000  1.000000  0.288859 -0.008438  0.654092  0.755117  0.792585  \n",
      "F2005  0.288859  1.000000 -0.003477  0.192584  0.333213  0.165086  \n",
      "F2010 -0.008438 -0.003477  1.000000  0.079862 -0.110877 -0.033725  \n",
      "F2015  0.654092  0.192584  0.079862  1.000000  0.717798  0.522499  \n",
      "F2020  0.755117  0.333213 -0.110877  0.717798  1.000000  0.680803  \n",
      "F2022  0.792585  0.165086 -0.033725  0.522499  0.680803  1.000000  \n"
     ]
    }
   ],
   "source": [
    "print(correlation_matrix1)"
   ]
  },
  {
   "cell_type": "markdown",
   "id": "92086c21-4bfc-411c-bb50-c2f9b7e63a76",
   "metadata": {},
   "source": [
    "#### Description for World GDP"
   ]
  },
  {
   "cell_type": "markdown",
   "id": "bac51e24-e384-4daa-ab99-709b53ac686b",
   "metadata": {},
   "source": [
    "Analyzing Climate Change Indicators: reading csv, displaying table. Used displaying info(), displaying describe() the dataframe.Used EDA Analyzing: Checked for missing values, checked for duplicates. Also built up a histogram, corellation matrix and heatmap for '1980', '1985','1990', '1995','2000', '2005','2010','2015','2020', '2024' years."
   ]
  },
  {
   "cell_type": "markdown",
   "id": "c1b559db-009b-48b5-84c7-337c937b6f18",
   "metadata": {},
   "source": [
    "#### Reading csv files"
   ]
  },
  {
   "cell_type": "code",
   "execution_count": 681,
   "id": "65836084-e02d-4b4a-b6f3-ce51ff44a601",
   "metadata": {},
   "outputs": [],
   "source": [
    "gdpdf = pd.read_csv(r'C:/Users/Rauan/practice/data/world_gdp_data.csv', encoding='cp1252')"
   ]
  },
  {
   "cell_type": "markdown",
   "id": "c8b1abdd-1115-432e-b2ef-0465c4307718",
   "metadata": {},
   "source": [
    "#### Display the table"
   ]
  },
  {
   "cell_type": "code",
   "execution_count": 682,
   "id": "db8bb2d8-4900-4674-a6b2-b54167a3df1b",
   "metadata": {},
   "outputs": [
    {
     "data": {
      "text/html": [
       "<div>\n",
       "<style scoped>\n",
       "    .dataframe tbody tr th:only-of-type {\n",
       "        vertical-align: middle;\n",
       "    }\n",
       "\n",
       "    .dataframe tbody tr th {\n",
       "        vertical-align: top;\n",
       "    }\n",
       "\n",
       "    .dataframe thead th {\n",
       "        text-align: right;\n",
       "    }\n",
       "</style>\n",
       "<table border=\"1\" class=\"dataframe\">\n",
       "  <thead>\n",
       "    <tr style=\"text-align: right;\">\n",
       "      <th></th>\n",
       "      <th>country_name</th>\n",
       "      <th>indicator_name</th>\n",
       "      <th>1980</th>\n",
       "      <th>1981</th>\n",
       "      <th>1982</th>\n",
       "      <th>1983</th>\n",
       "      <th>1984</th>\n",
       "      <th>1985</th>\n",
       "      <th>1986</th>\n",
       "      <th>1987</th>\n",
       "      <th>...</th>\n",
       "      <th>2015</th>\n",
       "      <th>2016</th>\n",
       "      <th>2017</th>\n",
       "      <th>2018</th>\n",
       "      <th>2019</th>\n",
       "      <th>2020</th>\n",
       "      <th>2021</th>\n",
       "      <th>2022</th>\n",
       "      <th>2023</th>\n",
       "      <th>2024</th>\n",
       "    </tr>\n",
       "  </thead>\n",
       "  <tbody>\n",
       "    <tr>\n",
       "      <th>0</th>\n",
       "      <td>Afghanistan</td>\n",
       "      <td>Annual GDP growth (percent change)</td>\n",
       "      <td>NaN</td>\n",
       "      <td>NaN</td>\n",
       "      <td>NaN</td>\n",
       "      <td>NaN</td>\n",
       "      <td>NaN</td>\n",
       "      <td>NaN</td>\n",
       "      <td>NaN</td>\n",
       "      <td>NaN</td>\n",
       "      <td>...</td>\n",
       "      <td>1.0</td>\n",
       "      <td>2.2</td>\n",
       "      <td>2.6</td>\n",
       "      <td>1.2</td>\n",
       "      <td>3.9</td>\n",
       "      <td>-2.4</td>\n",
       "      <td>-20.7</td>\n",
       "      <td>NaN</td>\n",
       "      <td>NaN</td>\n",
       "      <td>NaN</td>\n",
       "    </tr>\n",
       "    <tr>\n",
       "      <th>1</th>\n",
       "      <td>Albania</td>\n",
       "      <td>Annual GDP growth (percent change)</td>\n",
       "      <td>2.7</td>\n",
       "      <td>5.7</td>\n",
       "      <td>2.9</td>\n",
       "      <td>1.1</td>\n",
       "      <td>2.0</td>\n",
       "      <td>-1.5</td>\n",
       "      <td>5.6</td>\n",
       "      <td>-0.8</td>\n",
       "      <td>...</td>\n",
       "      <td>2.2</td>\n",
       "      <td>3.3</td>\n",
       "      <td>3.8</td>\n",
       "      <td>4.0</td>\n",
       "      <td>2.1</td>\n",
       "      <td>-3.3</td>\n",
       "      <td>8.9</td>\n",
       "      <td>4.8</td>\n",
       "      <td>3.6</td>\n",
       "      <td>3.3</td>\n",
       "    </tr>\n",
       "    <tr>\n",
       "      <th>2</th>\n",
       "      <td>Algeria</td>\n",
       "      <td>Annual GDP growth (percent change)</td>\n",
       "      <td>-5.4</td>\n",
       "      <td>3.0</td>\n",
       "      <td>6.4</td>\n",
       "      <td>5.4</td>\n",
       "      <td>5.6</td>\n",
       "      <td>5.6</td>\n",
       "      <td>-0.2</td>\n",
       "      <td>-0.7</td>\n",
       "      <td>...</td>\n",
       "      <td>3.7</td>\n",
       "      <td>3.2</td>\n",
       "      <td>1.4</td>\n",
       "      <td>1.2</td>\n",
       "      <td>1.0</td>\n",
       "      <td>-5.1</td>\n",
       "      <td>3.4</td>\n",
       "      <td>3.2</td>\n",
       "      <td>3.8</td>\n",
       "      <td>3.1</td>\n",
       "    </tr>\n",
       "    <tr>\n",
       "      <th>3</th>\n",
       "      <td>Andorra</td>\n",
       "      <td>Annual GDP growth (percent change)</td>\n",
       "      <td>NaN</td>\n",
       "      <td>NaN</td>\n",
       "      <td>NaN</td>\n",
       "      <td>NaN</td>\n",
       "      <td>NaN</td>\n",
       "      <td>NaN</td>\n",
       "      <td>NaN</td>\n",
       "      <td>NaN</td>\n",
       "      <td>...</td>\n",
       "      <td>1.4</td>\n",
       "      <td>3.7</td>\n",
       "      <td>0.3</td>\n",
       "      <td>1.6</td>\n",
       "      <td>2.0</td>\n",
       "      <td>-11.2</td>\n",
       "      <td>8.3</td>\n",
       "      <td>8.8</td>\n",
       "      <td>2.1</td>\n",
       "      <td>1.5</td>\n",
       "    </tr>\n",
       "    <tr>\n",
       "      <th>4</th>\n",
       "      <td>Angola</td>\n",
       "      <td>Annual GDP growth (percent change)</td>\n",
       "      <td>2.4</td>\n",
       "      <td>-4.4</td>\n",
       "      <td>0.0</td>\n",
       "      <td>4.2</td>\n",
       "      <td>6.0</td>\n",
       "      <td>3.5</td>\n",
       "      <td>2.9</td>\n",
       "      <td>4.1</td>\n",
       "      <td>...</td>\n",
       "      <td>0.9</td>\n",
       "      <td>-2.6</td>\n",
       "      <td>-0.2</td>\n",
       "      <td>-1.3</td>\n",
       "      <td>-0.7</td>\n",
       "      <td>-5.6</td>\n",
       "      <td>1.2</td>\n",
       "      <td>3.0</td>\n",
       "      <td>1.3</td>\n",
       "      <td>3.3</td>\n",
       "    </tr>\n",
       "  </tbody>\n",
       "</table>\n",
       "<p>5 rows × 47 columns</p>\n",
       "</div>"
      ],
      "text/plain": [
       "  country_name                      indicator_name  1980  1981  1982  1983  \\\n",
       "0  Afghanistan  Annual GDP growth (percent change)   NaN   NaN   NaN   NaN   \n",
       "1      Albania  Annual GDP growth (percent change)   2.7   5.7   2.9   1.1   \n",
       "2      Algeria  Annual GDP growth (percent change)  -5.4   3.0   6.4   5.4   \n",
       "3      Andorra  Annual GDP growth (percent change)   NaN   NaN   NaN   NaN   \n",
       "4       Angola  Annual GDP growth (percent change)   2.4  -4.4   0.0   4.2   \n",
       "\n",
       "   1984  1985  1986  1987  ...  2015  2016  2017  2018  2019  2020  2021  \\\n",
       "0   NaN   NaN   NaN   NaN  ...   1.0   2.2   2.6   1.2   3.9  -2.4 -20.7   \n",
       "1   2.0  -1.5   5.6  -0.8  ...   2.2   3.3   3.8   4.0   2.1  -3.3   8.9   \n",
       "2   5.6   5.6  -0.2  -0.7  ...   3.7   3.2   1.4   1.2   1.0  -5.1   3.4   \n",
       "3   NaN   NaN   NaN   NaN  ...   1.4   3.7   0.3   1.6   2.0 -11.2   8.3   \n",
       "4   6.0   3.5   2.9   4.1  ...   0.9  -2.6  -0.2  -1.3  -0.7  -5.6   1.2   \n",
       "\n",
       "   2022  2023  2024  \n",
       "0   NaN   NaN   NaN  \n",
       "1   4.8   3.6   3.3  \n",
       "2   3.2   3.8   3.1  \n",
       "3   8.8   2.1   1.5  \n",
       "4   3.0   1.3   3.3  \n",
       "\n",
       "[5 rows x 47 columns]"
      ]
     },
     "execution_count": 682,
     "metadata": {},
     "output_type": "execute_result"
    }
   ],
   "source": [
    "gdpdf.head()"
   ]
  },
  {
   "cell_type": "markdown",
   "id": "1c4f2664-0164-48e6-bdf8-3b9612d8ded3",
   "metadata": {},
   "source": [
    "#### Get Info"
   ]
  },
  {
   "cell_type": "code",
   "execution_count": 683,
   "id": "f9de8568-4c7e-47f5-8353-a0f48acdaf0f",
   "metadata": {},
   "outputs": [
    {
     "name": "stdout",
     "output_type": "stream",
     "text": [
      "World GDP info: \n",
      "<class 'pandas.core.frame.DataFrame'>\n",
      "RangeIndex: 196 entries, 0 to 195\n",
      "Data columns (total 47 columns):\n",
      " #   Column          Non-Null Count  Dtype  \n",
      "---  ------          --------------  -----  \n",
      " 0   country_name    196 non-null    object \n",
      " 1   indicator_name  196 non-null    object \n",
      " 2   1980            141 non-null    float64\n",
      " 3   1981            145 non-null    float64\n",
      " 4   1982            147 non-null    float64\n",
      " 5   1983            147 non-null    float64\n",
      " 6   1984            147 non-null    float64\n",
      " 7   1985            147 non-null    float64\n",
      " 8   1986            148 non-null    float64\n",
      " 9   1987            149 non-null    float64\n",
      " 10  1988            150 non-null    float64\n",
      " 11  1989            150 non-null    float64\n",
      " 12  1990            150 non-null    float64\n",
      " 13  1991            158 non-null    float64\n",
      " 14  1992            160 non-null    float64\n",
      " 15  1993            171 non-null    float64\n",
      " 16  1994            173 non-null    float64\n",
      " 17  1995            175 non-null    float64\n",
      " 18  1996            178 non-null    float64\n",
      " 19  1997            178 non-null    float64\n",
      " 20  1998            181 non-null    float64\n",
      " 21  1999            184 non-null    float64\n",
      " 22  2000            184 non-null    float64\n",
      " 23  2001            191 non-null    float64\n",
      " 24  2002            192 non-null    float64\n",
      " 25  2003            193 non-null    float64\n",
      " 26  2004            193 non-null    float64\n",
      " 27  2005            194 non-null    float64\n",
      " 28  2006            194 non-null    float64\n",
      " 29  2007            194 non-null    float64\n",
      " 30  2008            194 non-null    float64\n",
      " 31  2009            194 non-null    float64\n",
      " 32  2010            194 non-null    float64\n",
      " 33  2011            193 non-null    float64\n",
      " 34  2012            195 non-null    float64\n",
      " 35  2013            195 non-null    float64\n",
      " 36  2014            195 non-null    float64\n",
      " 37  2015            195 non-null    float64\n",
      " 38  2016            195 non-null    float64\n",
      " 39  2017            195 non-null    float64\n",
      " 40  2018            195 non-null    float64\n",
      " 41  2019            195 non-null    float64\n",
      " 42  2020            194 non-null    float64\n",
      " 43  2021            194 non-null    float64\n",
      " 44  2022            193 non-null    float64\n",
      " 45  2023            191 non-null    float64\n",
      " 46  2024            191 non-null    float64\n",
      "dtypes: float64(45), object(2)\n",
      "memory usage: 72.1+ KB\n",
      "None\n"
     ]
    }
   ],
   "source": [
    "print(\"World GDP info: \")\n",
    "print(gdpdf.info())"
   ]
  },
  {
   "cell_type": "markdown",
   "id": "50de0dd2-903d-4b55-8f8d-31727f28ac01",
   "metadata": {},
   "source": [
    "#### Describe"
   ]
  },
  {
   "cell_type": "code",
   "execution_count": 684,
   "id": "6f8583e4-9af7-493e-afc6-985eab87e4ba",
   "metadata": {},
   "outputs": [
    {
     "name": "stdout",
     "output_type": "stream",
     "text": [
      "World GDP Describe: \n",
      "             1980        1981        1982        1983        1984        1985  \\\n",
      "count  141.000000  145.000000  147.000000  147.000000  147.000000  147.000000   \n",
      "mean     3.113475    2.677931    1.320408    1.832653    4.196599    3.125170   \n",
      "std      5.450062    5.582481    6.421997    5.492974    6.771237    4.807982   \n",
      "min    -21.600000  -20.000000  -36.800000  -16.100000  -16.800000  -13.000000   \n",
      "25%      0.000000    0.100000   -1.100000   -1.350000    1.650000    0.850000   \n",
      "50%      3.400000    2.900000    1.800000    2.400000    4.100000    3.500000   \n",
      "75%      6.100000    5.700000    4.100000    4.650000    6.200000    5.600000   \n",
      "max     18.800000   17.100000   23.200000   22.700000   44.500000   24.300000   \n",
      "\n",
      "             1986        1987        1988        1989  ...        2015  \\\n",
      "count  148.000000  149.000000  150.000000  150.000000  ...  195.000000   \n",
      "mean     3.728378    3.718792    4.114000    3.396667  ...    2.585641   \n",
      "std      4.787555    5.309481    6.040746    6.394864  ...    5.067971   \n",
      "min    -19.300000  -15.400000  -28.200000  -42.200000  ...  -28.000000   \n",
      "25%      1.650000    1.500000    1.700000    1.150000  ...    1.350000   \n",
      "50%      3.550000    3.600000    4.250000    3.800000  ...    3.000000   \n",
      "75%      6.450000    5.900000    6.975000    5.700000  ...    4.650000   \n",
      "max     18.600000   22.000000   23.400000   25.900000  ...   24.500000   \n",
      "\n",
      "             2016        2017        2018        2019        2020        2021  \\\n",
      "count  195.000000  195.000000  195.000000  195.000000  194.000000  194.000000   \n",
      "mean     2.817949    3.165128    3.209231    2.618462   -5.012371    5.367526   \n",
      "std      3.766720    4.121107    3.109068    3.792378    8.171780    6.236972   \n",
      "min    -17.000000  -15.700000  -19.700000  -27.700000  -54.200000  -20.700000   \n",
      "25%      1.500000    1.550000    1.700000    1.150000   -7.775000    2.675000   \n",
      "50%      3.000000    3.400000    3.200000    2.700000   -3.800000    5.050000   \n",
      "75%      4.750000    4.800000    4.800000    4.600000   -1.225000    7.350000   \n",
      "max     15.200000   32.500000   13.000000   13.800000   43.500000   41.700000   \n",
      "\n",
      "             2022        2023        2024  \n",
      "count  193.000000  191.000000  191.000000  \n",
      "mean     4.124870    3.331937    3.596335  \n",
      "std      6.602691    6.385829    3.062101  \n",
      "min    -29.100000  -18.300000   -5.500000  \n",
      "25%      2.300000    1.400000    2.200000  \n",
      "50%      3.900000    2.800000    3.200000  \n",
      "75%      6.100000    4.400000    4.350000  \n",
      "max     62.300000   74.400000   27.200000  \n",
      "\n",
      "[8 rows x 45 columns]\n"
     ]
    }
   ],
   "source": [
    "print(\"World GDP Describe: \")\n",
    "print(gdpdf.describe())"
   ]
  },
  {
   "cell_type": "markdown",
   "id": "139a6ab7-25da-48a5-82bd-d411b3eae01f",
   "metadata": {},
   "source": [
    "#### Checking missing values"
   ]
  },
  {
   "cell_type": "code",
   "execution_count": 685,
   "id": "1e2c6de0-d55d-4bac-9639-b4bbd79571f0",
   "metadata": {},
   "outputs": [
    {
     "name": "stdout",
     "output_type": "stream",
     "text": [
      "Checking missing values: \n",
      "country_name       0\n",
      "indicator_name     0\n",
      "1980              55\n",
      "1981              51\n",
      "1982              49\n",
      "1983              49\n",
      "1984              49\n",
      "1985              49\n",
      "1986              48\n",
      "1987              47\n",
      "1988              46\n",
      "1989              46\n",
      "1990              46\n",
      "1991              38\n",
      "1992              36\n",
      "1993              25\n",
      "1994              23\n",
      "1995              21\n",
      "1996              18\n",
      "1997              18\n",
      "1998              15\n",
      "1999              12\n",
      "2000              12\n",
      "2001               5\n",
      "2002               4\n",
      "2003               3\n",
      "2004               3\n",
      "2005               2\n",
      "2006               2\n",
      "2007               2\n",
      "2008               2\n",
      "2009               2\n",
      "2010               2\n",
      "2011               3\n",
      "2012               1\n",
      "2013               1\n",
      "2014               1\n",
      "2015               1\n",
      "2016               1\n",
      "2017               1\n",
      "2018               1\n",
      "2019               1\n",
      "2020               2\n",
      "2021               2\n",
      "2022               3\n",
      "2023               5\n",
      "2024               5\n",
      "dtype: int64\n"
     ]
    }
   ],
   "source": [
    "print(\"Checking missing values: \")\n",
    "print(gdpdf.isnull().sum())"
   ]
  },
  {
   "cell_type": "markdown",
   "id": "bf3a4836-547d-4a7b-abb0-1b3b49ae4359",
   "metadata": {},
   "source": [
    "#### Checking for duplicates"
   ]
  },
  {
   "cell_type": "code",
   "execution_count": 686,
   "id": "8ea9c708-f538-4e7e-b8e9-02ce879ae450",
   "metadata": {},
   "outputs": [
    {
     "name": "stdout",
     "output_type": "stream",
     "text": [
      "Checking for duplicates: \n",
      "0\n"
     ]
    }
   ],
   "source": [
    "print(\"Checking for duplicates: \")\n",
    "print(gdpdf.duplicated().sum())"
   ]
  },
  {
   "cell_type": "markdown",
   "id": "016e4e02-5e36-4d4c-bf6b-362221caf8c9",
   "metadata": {},
   "source": [
    "#### Heatmap of World GDP"
   ]
  },
  {
   "cell_type": "code",
   "execution_count": 687,
   "id": "ef2ad3ef-6f7f-4296-8a1c-a16b975d021e",
   "metadata": {},
   "outputs": [
    {
     "data": {
      "image/png": "[encoded data removed]",
      "text/plain": [
       "<Figure size 1000x600 with 2 Axes>"
      ]
     },
     "metadata": {},
     "output_type": "display_data"
    }
   ],
   "source": [
    "gdp_columns = ['1980', '1985','1990', '1995','2000', '2005','2010','2015','2020', '2024']\n",
    "correlation_matrix2 = gdpdf[gdp_columns].corr()\n",
    "\n",
    "plt.figure(figsize=(10, 6))\n",
    "sns.heatmap(correlation_matrix2, annot = True , cmap = 'coolwarm', fmt = \".2f\")\n",
    "plt.title('Corellation for GDP')\n",
    "plt.show()"
   ]
  },
  {
   "cell_type": "markdown",
   "id": "c8eae18d-ad71-4840-bca9-696efe4fad00",
   "metadata": {},
   "source": [
    "#### Corellation matrix"
   ]
  },
  {
   "cell_type": "code",
   "execution_count": 688,
   "id": "e9d51cf1-e263-4d64-b34a-a86a499b9dc4",
   "metadata": {},
   "outputs": [
    {
     "name": "stdout",
     "output_type": "stream",
     "text": [
      "          1980      1985      1990      1995      2000      2005      2010  \\\n",
      "1980  1.000000  0.082768 -0.023439  0.051087  0.081010 -0.004750  0.010460   \n",
      "1985  0.082768  1.000000  0.060903  0.172309  0.144108 -0.168759 -0.069410   \n",
      "1990 -0.023439  0.060903  1.000000  0.069472  0.073344 -0.094747  0.044641   \n",
      "1995  0.051087  0.172309  0.069472  1.000000  0.240337 -0.126912 -0.047975   \n",
      "2000  0.081010  0.144108  0.073344  0.240337  1.000000  0.160433 -0.231729   \n",
      "2005 -0.004750 -0.168759 -0.094747 -0.126912  0.160433  1.000000  0.183694   \n",
      "2010  0.010460 -0.069410  0.044641 -0.047975 -0.231729  0.183694  1.000000   \n",
      "2015  0.022419 -0.047329  0.088857  0.183554 -0.101360  0.075853 -0.096128   \n",
      "2020 -0.124485 -0.105889  0.019195  0.100336 -0.007977  0.040743  0.006480   \n",
      "2024 -0.054422 -0.032180 -0.056870 -0.042069 -0.293707  0.059965  0.337477   \n",
      "\n",
      "          2015      2020      2024  \n",
      "1980  0.022419 -0.124485 -0.054422  \n",
      "1985 -0.047329 -0.105889 -0.032180  \n",
      "1990  0.088857  0.019195 -0.056870  \n",
      "1995  0.183554  0.100336 -0.042069  \n",
      "2000 -0.101360 -0.007977 -0.293707  \n",
      "2005  0.075853  0.040743  0.059965  \n",
      "2010 -0.096128  0.006480  0.337477  \n",
      "2015  1.000000  0.309509 -0.047055  \n",
      "2020  0.309509  1.000000  0.035110  \n",
      "2024 -0.047055  0.035110  1.000000  \n"
     ]
    }
   ],
   "source": [
    "print(correlation_matrix2)\n"
   ]
  },
  {
   "cell_type": "markdown",
   "id": "aeff13a0-d4ed-405e-bfd0-c887740032c0",
   "metadata": {},
   "source": [
    "#### Counting the Dataset of Population"
   ]
  },
  {
   "cell_type": "code",
   "execution_count": 689,
   "id": "7c5bdbcc-aebc-4c9e-a9db-70a63a121c42",
   "metadata": {},
   "outputs": [],
   "source": [
    "row_count = len(popdf)"
   ]
  },
  {
   "cell_type": "code",
   "execution_count": 690,
   "id": "0d4a0f71-308e-472e-aa9e-856caaabd495",
   "metadata": {},
   "outputs": [
    {
     "name": "stdout",
     "output_type": "stream",
     "text": [
      "World Population Dataset has 216 rows\n"
     ]
    }
   ],
   "source": [
    "print(f'World Population Dataset has {row_count} rows')"
   ]
  },
  {
   "cell_type": "markdown",
   "id": "48f89a94-f981-4748-89cc-96e085d58713",
   "metadata": {},
   "source": [
    "#### Counting the Dataset of CCI"
   ]
  },
  {
   "cell_type": "code",
   "execution_count": 691,
   "id": "791a82b4-02df-41c2-94a1-56eef54b268b",
   "metadata": {},
   "outputs": [],
   "source": [
    "row_count1 = len(climdf)"
   ]
  },
  {
   "cell_type": "code",
   "execution_count": 692,
   "id": "8e28932c-9188-4b4a-b049-b19bd78bda46",
   "metadata": {},
   "outputs": [
    {
     "name": "stdout",
     "output_type": "stream",
     "text": [
      "Climate Change Indicators Dataset has 225 rows\n"
     ]
    }
   ],
   "source": [
    "print(f'Climate Change Indicators Dataset has {row_count1} rows')"
   ]
  },
  {
   "cell_type": "markdown",
   "id": "f90df537-e51f-4128-97d2-e287ad26510a",
   "metadata": {},
   "source": [
    "#### Counting the Dataset of World GDP"
   ]
  },
  {
   "cell_type": "code",
   "execution_count": 693,
   "id": "3aae4a0e-a3e7-481b-9a0f-1e7425b52daa",
   "metadata": {},
   "outputs": [],
   "source": [
    "row_count2 = len(gdpdf)"
   ]
  },
  {
   "cell_type": "code",
   "execution_count": 694,
   "id": "4867f079-9f11-446e-a94d-0a1e8feca328",
   "metadata": {},
   "outputs": [
    {
     "name": "stdout",
     "output_type": "stream",
     "text": [
      "World GDP Dataset has 196 rows\n"
     ]
    }
   ],
   "source": [
    "print(f'World GDP Dataset has {row_count2} rows')"
   ]
  },
  {
   "cell_type": "code",
   "execution_count": 695,
   "id": "0403f695-b8d0-45f2-9a1e-f8bca30d6858",
   "metadata": {},
   "outputs": [
    {
     "name": "stdout",
     "output_type": "stream",
     "text": [
      "<class 'pandas.core.frame.DataFrame'>\n",
      "RangeIndex: 216 entries, 0 to 215\n",
      "Data columns (total 22 columns):\n",
      " #   Column                       Non-Null Count  Dtype  \n",
      "---  ------                       --------------  -----  \n",
      " 0   Rank                         216 non-null    int64  \n",
      " 1   country                      216 non-null    object \n",
      " 2   Capital                      216 non-null    object \n",
      " 3   Continent                    216 non-null    object \n",
      " 4   Area (km²)                   216 non-null    int64  \n",
      " 5   1950                         216 non-null    int64  \n",
      " 6   1955                         216 non-null    int64  \n",
      " 7   1960                         216 non-null    int64  \n",
      " 8   1965                         216 non-null    int64  \n",
      " 9   1970 Population              216 non-null    int64  \n",
      " 10  1975                         216 non-null    int64  \n",
      " 11  1980 Population              216 non-null    int64  \n",
      " 12  1985                         216 non-null    int64  \n",
      " 13  1990 Population              216 non-null    int64  \n",
      " 14  1995                         216 non-null    int64  \n",
      " 15  2000 Population              216 non-null    int64  \n",
      " 16  2005                         216 non-null    int64  \n",
      " 17  2010 Population              216 non-null    int64  \n",
      " 18  2015 Population              216 non-null    int64  \n",
      " 19  2020 Population              216 non-null    int64  \n",
      " 20  2023                         216 non-null    int64  \n",
      " 21  World Population Percentage  216 non-null    float64\n",
      "dtypes: float64(1), int64(18), object(3)\n",
      "memory usage: 37.3+ KB\n",
      "----\n",
      "<class 'pandas.core.frame.DataFrame'>\n",
      "RangeIndex: 225 entries, 0 to 224\n",
      "Data columns (total 72 columns):\n",
      " #   Column               Non-Null Count  Dtype  \n",
      "---  ------               --------------  -----  \n",
      " 0   ObjectId             225 non-null    int64  \n",
      " 1   Country              225 non-null    object \n",
      " 2   ISO2                 223 non-null    object \n",
      " 3   ISO3                 225 non-null    object \n",
      " 4   Indicator            225 non-null    object \n",
      " 5   Unit                 225 non-null    object \n",
      " 6   Source               225 non-null    object \n",
      " 7   CTS_Code             225 non-null    object \n",
      " 8   CTS_Name             225 non-null    object \n",
      " 9   CTS_Full_Descriptor  225 non-null    object \n",
      " 10  F1961                188 non-null    float64\n",
      " 11  F1962                189 non-null    float64\n",
      " 12  F1963                188 non-null    float64\n",
      " 13  F1964                188 non-null    float64\n",
      " 14  F1965                188 non-null    float64\n",
      " 15  F1966                192 non-null    float64\n",
      " 16  F1967                191 non-null    float64\n",
      " 17  F1968                191 non-null    float64\n",
      " 18  F1969                190 non-null    float64\n",
      " 19  F1970                189 non-null    float64\n",
      " 20  F1971                191 non-null    float64\n",
      " 21  F1972                192 non-null    float64\n",
      " 22  F1973                193 non-null    float64\n",
      " 23  F1974                192 non-null    float64\n",
      " 24  F1975                188 non-null    float64\n",
      " 25  F1976                189 non-null    float64\n",
      " 26  F1977                185 non-null    float64\n",
      " 27  F1978                189 non-null    float64\n",
      " 28  F1979                189 non-null    float64\n",
      " 29  F1980                191 non-null    float64\n",
      " 30  F1981                191 non-null    float64\n",
      " 31  F1982                192 non-null    float64\n",
      " 32  F1983                190 non-null    float64\n",
      " 33  F1984                188 non-null    float64\n",
      " 34  F1985                188 non-null    float64\n",
      " 35  F1986                190 non-null    float64\n",
      " 36  F1987                190 non-null    float64\n",
      " 37  F1988                190 non-null    float64\n",
      " 38  F1989                190 non-null    float64\n",
      " 39  F1990                189 non-null    float64\n",
      " 40  F1991                188 non-null    float64\n",
      " 41  F1992                208 non-null    float64\n",
      " 42  F1993                209 non-null    float64\n",
      " 43  F1994                208 non-null    float64\n",
      " 44  F1995                210 non-null    float64\n",
      " 45  F1996                210 non-null    float64\n",
      " 46  F1997                207 non-null    float64\n",
      " 47  F1998                210 non-null    float64\n",
      " 48  F1999                209 non-null    float64\n",
      " 49  F2000                209 non-null    float64\n",
      " 50  F2001                208 non-null    float64\n",
      " 51  F2002                212 non-null    float64\n",
      " 52  F2003                214 non-null    float64\n",
      " 53  F2004                213 non-null    float64\n",
      " 54  F2005                212 non-null    float64\n",
      " 55  F2006                215 non-null    float64\n",
      " 56  F2007                217 non-null    float64\n",
      " 57  F2008                212 non-null    float64\n",
      " 58  F2009                212 non-null    float64\n",
      " 59  F2010                215 non-null    float64\n",
      " 60  F2011                217 non-null    float64\n",
      " 61  F2012                215 non-null    float64\n",
      " 62  F2013                216 non-null    float64\n",
      " 63  F2014                216 non-null    float64\n",
      " 64  F2015                216 non-null    float64\n",
      " 65  F2016                213 non-null    float64\n",
      " 66  F2017                214 non-null    float64\n",
      " 67  F2018                213 non-null    float64\n",
      " 68  F2019                213 non-null    float64\n",
      " 69  F2020                212 non-null    float64\n",
      " 70  F2021                213 non-null    float64\n",
      " 71  F2022                213 non-null    float64\n",
      "dtypes: float64(62), int64(1), object(9)\n",
      "memory usage: 126.7+ KB\n",
      "----\n",
      "<class 'pandas.core.frame.DataFrame'>\n",
      "RangeIndex: 196 entries, 0 to 195\n",
      "Data columns (total 47 columns):\n",
      " #   Column          Non-Null Count  Dtype  \n",
      "---  ------          --------------  -----  \n",
      " 0   country_name    196 non-null    object \n",
      " 1   indicator_name  196 non-null    object \n",
      " 2   1980            141 non-null    float64\n",
      " 3   1981            145 non-null    float64\n",
      " 4   1982            147 non-null    float64\n",
      " 5   1983            147 non-null    float64\n",
      " 6   1984            147 non-null    float64\n",
      " 7   1985            147 non-null    float64\n",
      " 8   1986            148 non-null    float64\n",
      " 9   1987            149 non-null    float64\n",
      " 10  1988            150 non-null    float64\n",
      " 11  1989            150 non-null    float64\n",
      " 12  1990            150 non-null    float64\n",
      " 13  1991            158 non-null    float64\n",
      " 14  1992            160 non-null    float64\n",
      " 15  1993            171 non-null    float64\n",
      " 16  1994            173 non-null    float64\n",
      " 17  1995            175 non-null    float64\n",
      " 18  1996            178 non-null    float64\n",
      " 19  1997            178 non-null    float64\n",
      " 20  1998            181 non-null    float64\n",
      " 21  1999            184 non-null    float64\n",
      " 22  2000            184 non-null    float64\n",
      " 23  2001            191 non-null    float64\n",
      " 24  2002            192 non-null    float64\n",
      " 25  2003            193 non-null    float64\n",
      " 26  2004            193 non-null    float64\n",
      " 27  2005            194 non-null    float64\n",
      " 28  2006            194 non-null    float64\n",
      " 29  2007            194 non-null    float64\n",
      " 30  2008            194 non-null    float64\n",
      " 31  2009            194 non-null    float64\n",
      " 32  2010            194 non-null    float64\n",
      " 33  2011            193 non-null    float64\n",
      " 34  2012            195 non-null    float64\n",
      " 35  2013            195 non-null    float64\n",
      " 36  2014            195 non-null    float64\n",
      " 37  2015            195 non-null    float64\n",
      " 38  2016            195 non-null    float64\n",
      " 39  2017            195 non-null    float64\n",
      " 40  2018            195 non-null    float64\n",
      " 41  2019            195 non-null    float64\n",
      " 42  2020            194 non-null    float64\n",
      " 43  2021            194 non-null    float64\n",
      " 44  2022            193 non-null    float64\n",
      " 45  2023            191 non-null    float64\n",
      " 46  2024            191 non-null    float64\n",
      "dtypes: float64(45), object(2)\n",
      "memory usage: 72.1+ KB\n"
     ]
    }
   ],
   "source": [
    "%run \"C:/Users/Rauan/practice/script/Analyzer.py\""
   ]
  },
  {
   "cell_type": "code",
   "execution_count": 698,
   "id": "308920a3-29ae-4cb9-b952-f346cda376d2",
   "metadata": {},
   "outputs": [
    {
     "data": {
      "text/html": [
       "<div>\n",
       "<style scoped>\n",
       "    .dataframe tbody tr th:only-of-type {\n",
       "        vertical-align: middle;\n",
       "    }\n",
       "\n",
       "    .dataframe tbody tr th {\n",
       "        vertical-align: top;\n",
       "    }\n",
       "\n",
       "    .dataframe thead th {\n",
       "        text-align: right;\n",
       "    }\n",
       "</style>\n",
       "<table border=\"1\" class=\"dataframe\">\n",
       "  <thead>\n",
       "    <tr style=\"text-align: right;\">\n",
       "      <th></th>\n",
       "      <th>Rank</th>\n",
       "      <th>Area (km²)</th>\n",
       "      <th>1950</th>\n",
       "      <th>1955</th>\n",
       "      <th>1960</th>\n",
       "      <th>1965</th>\n",
       "      <th>1970 Population</th>\n",
       "      <th>1975</th>\n",
       "      <th>1980 Population</th>\n",
       "      <th>1985</th>\n",
       "      <th>1990 Population</th>\n",
       "      <th>1995</th>\n",
       "      <th>2000 Population</th>\n",
       "      <th>2005</th>\n",
       "      <th>2010 Population</th>\n",
       "      <th>2015 Population</th>\n",
       "      <th>2020 Population</th>\n",
       "      <th>2023</th>\n",
       "      <th>World Population Percentage</th>\n",
       "    </tr>\n",
       "  </thead>\n",
       "  <tbody>\n",
       "    <tr>\n",
       "      <th>count</th>\n",
       "      <td>216.000000</td>\n",
       "      <td>2.160000e+02</td>\n",
       "      <td>2.160000e+02</td>\n",
       "      <td>2.160000e+02</td>\n",
       "      <td>2.160000e+02</td>\n",
       "      <td>2.160000e+02</td>\n",
       "      <td>2.160000e+02</td>\n",
       "      <td>2.160000e+02</td>\n",
       "      <td>2.160000e+02</td>\n",
       "      <td>2.160000e+02</td>\n",
       "      <td>2.160000e+02</td>\n",
       "      <td>2.160000e+02</td>\n",
       "      <td>2.160000e+02</td>\n",
       "      <td>2.160000e+02</td>\n",
       "      <td>2.160000e+02</td>\n",
       "      <td>2.160000e+02</td>\n",
       "      <td>2.160000e+02</td>\n",
       "      <td>2.160000e+02</td>\n",
       "      <td>216.000000</td>\n",
       "    </tr>\n",
       "    <tr>\n",
       "      <th>mean</th>\n",
       "      <td>113.365741</td>\n",
       "      <td>6.155476e+05</td>\n",
       "      <td>1.136719e+07</td>\n",
       "      <td>1.247451e+07</td>\n",
       "      <td>1.369687e+07</td>\n",
       "      <td>1.512177e+07</td>\n",
       "      <td>1.692083e+07</td>\n",
       "      <td>1.841752e+07</td>\n",
       "      <td>2.033511e+07</td>\n",
       "      <td>2.199344e+07</td>\n",
       "      <td>2.430449e+07</td>\n",
       "      <td>2.597676e+07</td>\n",
       "      <td>2.807026e+07</td>\n",
       "      <td>2.970061e+07</td>\n",
       "      <td>3.182926e+07</td>\n",
       "      <td>3.379676e+07</td>\n",
       "      <td>3.562873e+07</td>\n",
       "      <td>3.655425e+07</td>\n",
       "      <td>0.453935</td>\n",
       "    </tr>\n",
       "    <tr>\n",
       "      <th>std</th>\n",
       "      <td>66.512181</td>\n",
       "      <td>1.823356e+06</td>\n",
       "      <td>4.663780e+07</td>\n",
       "      <td>5.164219e+07</td>\n",
       "      <td>5.647642e+07</td>\n",
       "      <td>6.256400e+07</td>\n",
       "      <td>7.044206e+07</td>\n",
       "      <td>7.803440e+07</td>\n",
       "      <td>8.497929e+07</td>\n",
       "      <td>9.251938e+07</td>\n",
       "      <td>1.016518e+08</td>\n",
       "      <td>1.089911e+08</td>\n",
       "      <td>1.160500e+08</td>\n",
       "      <td>1.224011e+08</td>\n",
       "      <td>1.290366e+08</td>\n",
       "      <td>1.354448e+08</td>\n",
       "      <td>1.408039e+08</td>\n",
       "      <td>1.426907e+08</td>\n",
       "      <td>1.780732</td>\n",
       "    </tr>\n",
       "    <tr>\n",
       "      <th>min</th>\n",
       "      <td>1.000000</td>\n",
       "      <td>2.000000e+00</td>\n",
       "      <td>1.458000e+03</td>\n",
       "      <td>1.629000e+03</td>\n",
       "      <td>1.795000e+03</td>\n",
       "      <td>1.896000e+03</td>\n",
       "      <td>1.714000e+03</td>\n",
       "      <td>1.621000e+03</td>\n",
       "      <td>1.647000e+03</td>\n",
       "      <td>1.739000e+03</td>\n",
       "      <td>1.669000e+03</td>\n",
       "      <td>1.632000e+03</td>\n",
       "      <td>1.666000e+03</td>\n",
       "      <td>1.429000e+03</td>\n",
       "      <td>1.367000e+03</td>\n",
       "      <td>1.454000e+03</td>\n",
       "      <td>1.827000e+03</td>\n",
       "      <td>1.893000e+03</td>\n",
       "      <td>0.000000</td>\n",
       "    </tr>\n",
       "    <tr>\n",
       "      <th>25%</th>\n",
       "      <td>56.750000</td>\n",
       "      <td>1.062975e+04</td>\n",
       "      <td>1.617745e+05</td>\n",
       "      <td>1.822365e+05</td>\n",
       "      <td>2.075262e+05</td>\n",
       "      <td>2.355722e+05</td>\n",
       "      <td>2.760342e+05</td>\n",
       "      <td>2.883260e+05</td>\n",
       "      <td>3.272762e+05</td>\n",
       "      <td>3.663165e+05</td>\n",
       "      <td>3.892800e+05</td>\n",
       "      <td>4.293512e+05</td>\n",
       "      <td>4.525952e+05</td>\n",
       "      <td>5.103718e+05</td>\n",
       "      <td>5.355985e+05</td>\n",
       "      <td>5.739582e+05</td>\n",
       "      <td>6.235522e+05</td>\n",
       "      <td>6.256728e+05</td>\n",
       "      <td>0.010000</td>\n",
       "    </tr>\n",
       "    <tr>\n",
       "      <th>50%</th>\n",
       "      <td>111.500000</td>\n",
       "      <td>9.071600e+04</td>\n",
       "      <td>1.951524e+06</td>\n",
       "      <td>2.138310e+06</td>\n",
       "      <td>2.333191e+06</td>\n",
       "      <td>2.589718e+06</td>\n",
       "      <td>2.865684e+06</td>\n",
       "      <td>3.194775e+06</td>\n",
       "      <td>3.456296e+06</td>\n",
       "      <td>3.756226e+06</td>\n",
       "      <td>4.278040e+06</td>\n",
       "      <td>4.600186e+06</td>\n",
       "      <td>4.971608e+06</td>\n",
       "      <td>5.311156e+06</td>\n",
       "      <td>5.517312e+06</td>\n",
       "      <td>6.046465e+06</td>\n",
       "      <td>6.271584e+06</td>\n",
       "      <td>6.440522e+06</td>\n",
       "      <td>0.080000</td>\n",
       "    </tr>\n",
       "    <tr>\n",
       "      <th>75%</th>\n",
       "      <td>169.250000</td>\n",
       "      <td>4.534312e+05</td>\n",
       "      <td>6.205380e+06</td>\n",
       "      <td>6.995176e+06</td>\n",
       "      <td>7.848276e+06</td>\n",
       "      <td>8.835424e+06</td>\n",
       "      <td>9.285434e+06</td>\n",
       "      <td>9.875034e+06</td>\n",
       "      <td>1.087741e+07</td>\n",
       "      <td>1.135929e+07</td>\n",
       "      <td>1.331331e+07</td>\n",
       "      <td>1.548371e+07</td>\n",
       "      <td>1.632926e+07</td>\n",
       "      <td>1.895687e+07</td>\n",
       "      <td>2.093418e+07</td>\n",
       "      <td>2.175568e+07</td>\n",
       "      <td>2.394951e+07</td>\n",
       "      <td>2.448266e+07</td>\n",
       "      <td>0.307500</td>\n",
       "    </tr>\n",
       "    <tr>\n",
       "      <th>max</th>\n",
       "      <td>233.000000</td>\n",
       "      <td>1.709824e+07</td>\n",
       "      <td>5.439792e+08</td>\n",
       "      <td>6.033201e+08</td>\n",
       "      <td>6.541707e+08</td>\n",
       "      <td>7.238463e+08</td>\n",
       "      <td>8.225344e+08</td>\n",
       "      <td>9.151247e+08</td>\n",
       "      <td>9.823725e+08</td>\n",
       "      <td>1.060240e+09</td>\n",
       "      <td>1.153704e+09</td>\n",
       "      <td>1.218144e+09</td>\n",
       "      <td>1.264099e+09</td>\n",
       "      <td>1.304888e+09</td>\n",
       "      <td>1.348191e+09</td>\n",
       "      <td>1.393715e+09</td>\n",
       "      <td>1.424930e+09</td>\n",
       "      <td>1.428628e+09</td>\n",
       "      <td>17.880000</td>\n",
       "    </tr>\n",
       "  </tbody>\n",
       "</table>\n",
       "</div>"
      ],
      "text/plain": [
       "             Rank    Area (km²)          1950          1955          1960  \\\n",
       "count  216.000000  2.160000e+02  2.160000e+02  2.160000e+02  2.160000e+02   \n",
       "mean   113.365741  6.155476e+05  1.136719e+07  1.247451e+07  1.369687e+07   \n",
       "std     66.512181  1.823356e+06  4.663780e+07  5.164219e+07  5.647642e+07   \n",
       "min      1.000000  2.000000e+00  1.458000e+03  1.629000e+03  1.795000e+03   \n",
       "25%     56.750000  1.062975e+04  1.617745e+05  1.822365e+05  2.075262e+05   \n",
       "50%    111.500000  9.071600e+04  1.951524e+06  2.138310e+06  2.333191e+06   \n",
       "75%    169.250000  4.534312e+05  6.205380e+06  6.995176e+06  7.848276e+06   \n",
       "max    233.000000  1.709824e+07  5.439792e+08  6.033201e+08  6.541707e+08   \n",
       "\n",
       "               1965  1970 Population          1975  1980 Population  \\\n",
       "count  2.160000e+02     2.160000e+02  2.160000e+02     2.160000e+02   \n",
       "mean   1.512177e+07     1.692083e+07  1.841752e+07     2.033511e+07   \n",
       "std    6.256400e+07     7.044206e+07  7.803440e+07     8.497929e+07   \n",
       "min    1.896000e+03     1.714000e+03  1.621000e+03     1.647000e+03   \n",
       "25%    2.355722e+05     2.760342e+05  2.883260e+05     3.272762e+05   \n",
       "50%    2.589718e+06     2.865684e+06  3.194775e+06     3.456296e+06   \n",
       "75%    8.835424e+06     9.285434e+06  9.875034e+06     1.087741e+07   \n",
       "max    7.238463e+08     8.225344e+08  9.151247e+08     9.823725e+08   \n",
       "\n",
       "               1985  1990 Population          1995  2000 Population  \\\n",
       "count  2.160000e+02     2.160000e+02  2.160000e+02     2.160000e+02   \n",
       "mean   2.199344e+07     2.430449e+07  2.597676e+07     2.807026e+07   \n",
       "std    9.251938e+07     1.016518e+08  1.089911e+08     1.160500e+08   \n",
       "min    1.739000e+03     1.669000e+03  1.632000e+03     1.666000e+03   \n",
       "25%    3.663165e+05     3.892800e+05  4.293512e+05     4.525952e+05   \n",
       "50%    3.756226e+06     4.278040e+06  4.600186e+06     4.971608e+06   \n",
       "75%    1.135929e+07     1.331331e+07  1.548371e+07     1.632926e+07   \n",
       "max    1.060240e+09     1.153704e+09  1.218144e+09     1.264099e+09   \n",
       "\n",
       "               2005  2010 Population  2015 Population  2020 Population  \\\n",
       "count  2.160000e+02     2.160000e+02     2.160000e+02     2.160000e+02   \n",
       "mean   2.970061e+07     3.182926e+07     3.379676e+07     3.562873e+07   \n",
       "std    1.224011e+08     1.290366e+08     1.354448e+08     1.408039e+08   \n",
       "min    1.429000e+03     1.367000e+03     1.454000e+03     1.827000e+03   \n",
       "25%    5.103718e+05     5.355985e+05     5.739582e+05     6.235522e+05   \n",
       "50%    5.311156e+06     5.517312e+06     6.046465e+06     6.271584e+06   \n",
       "75%    1.895687e+07     2.093418e+07     2.175568e+07     2.394951e+07   \n",
       "max    1.304888e+09     1.348191e+09     1.393715e+09     1.424930e+09   \n",
       "\n",
       "               2023  World Population Percentage  \n",
       "count  2.160000e+02                   216.000000  \n",
       "mean   3.655425e+07                     0.453935  \n",
       "std    1.426907e+08                     1.780732  \n",
       "min    1.893000e+03                     0.000000  \n",
       "25%    6.256728e+05                     0.010000  \n",
       "50%    6.440522e+06                     0.080000  \n",
       "75%    2.448266e+07                     0.307500  \n",
       "max    1.428628e+09                    17.880000  "
      ]
     },
     "execution_count": 698,
     "metadata": {},
     "output_type": "execute_result"
    }
   ],
   "source": [
    "popdf.describe()"
   ]
  },
  {
   "cell_type": "code",
   "execution_count": 710,
   "id": "0f733a4a-ef85-4be3-9505-af5f1b980514",
   "metadata": {},
   "outputs": [
    {
     "ename": "NameError",
     "evalue": "name 'pop' is not defined",
     "output_type": "error",
     "traceback": [
      "\u001b[1;31m---------------------------------------------------------------------------\u001b[0m",
      "\u001b[1;31mNameError\u001b[0m                                 Traceback (most recent call last)",
      "Cell \u001b[1;32mIn[710], line 1\u001b[0m\n\u001b[1;32m----> 1\u001b[0m \u001b[43mpop\u001b[49m\u001b[38;5;241m.\u001b[39mdf\u001b[38;5;241m.\u001b[39mshow_heatmap()\n",
      "\u001b[1;31mNameError\u001b[0m: name 'pop' is not defined"
     ]
    }
   ],
   "source": [
    "pop.df.show_heatmap()"
   ]
  },
  {
   "cell_type": "code",
   "execution_count": 704,
   "id": "0a446e40-000d-40fe-b1f5-375fa7627ea8",
   "metadata": {
    "scrolled": true
   },
   "outputs": [
    {
     "name": "stderr",
     "output_type": "stream",
     "text": [
      "ERROR: Invalid requirement: 'C:\\\\Users\\\\Rauan\\\\practice\\\\script\\\\Analyzer.py'\n",
      "Hint: It looks like a path. The path does exist. \n"
     ]
    }
   ],
   "source": [
    "!pip install C:\\Users\\Rauan\\practice\\script\\Analyzer.py"
   ]
  },
  {
   "cell_type": "code",
   "execution_count": 709,
   "id": "9e54be7b-b314-4c6f-94d5-3e7199f3c3b1",
   "metadata": {},
   "outputs": [
    {
     "ename": "ModuleNotFoundError",
     "evalue": "No module named 'my_analyzer'",
     "output_type": "error",
     "traceback": [
      "\u001b[1;31m---------------------------------------------------------------------------\u001b[0m",
      "\u001b[1;31mModuleNotFoundError\u001b[0m                       Traceback (most recent call last)",
      "Cell \u001b[1;32mIn[709], line 1\u001b[0m\n\u001b[1;32m----> 1\u001b[0m \u001b[38;5;28;01mfrom\u001b[39;00m \u001b[38;5;21;01mmy_analyzer\u001b[39;00m\u001b[38;5;21;01m.\u001b[39;00m\u001b[38;5;21;01mAnalyzer\u001b[39;00m \u001b[38;5;28;01mimport\u001b[39;00m Analyzer\n",
      "\u001b[1;31mModuleNotFoundError\u001b[0m: No module named 'my_analyzer'"
     ]
    }
   ],
   "source": [
    "from my_analyzer.Analyzer import Analyzer"
   ]
  },
  {
   "cell_type": "code",
   "execution_count": null,
   "id": "5c1494cb-c3b4-43b5-84ad-092a435b5ecb",
   "metadata": {},
   "outputs": [],
   "source": []
  }
 ],
 "metadata": {
  "kernelspec": {
   "display_name": "Python 3 (ipykernel)",
   "language": "python",
   "name": "python3"
  },
  "language_info": {
   "codemirror_mode": {
    "name": "ipython",
    "version": 3
   },
   "file_extension": ".py",
   "mimetype": "text/x-python",
   "name": "python",
   "nbconvert_exporter": "python",
   "pygments_lexer": "ipython3",
   "version": "3.12.2"
  }
 },
 "nbformat": 4,
 "nbformat_minor": 5
}
