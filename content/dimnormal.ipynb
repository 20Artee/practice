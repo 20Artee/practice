{
 "cells": [
  {
   "cell_type": "code",
   "execution_count": 153,
   "id": "82716efa-9e33-4ad3-a14a-a9824ad5d538",
   "metadata": {},
   "outputs": [],
   "source": [
    "import pandas as pd\n",
    "import random\n",
    "import os\n",
    "\n",
    "popdf = pd.read_csv(r'C:/Users/Rauan/practice/data/World Population Dataset.csv')\n",
    "dim_country = pd.read_csv('Dim/DimCountry.csv')\n",
    "dim_continent = pd.read_csv('Dim/DimContinent.csv')\n",
    "\n",
    "random_country_ids = random.sample(range(1000, 10000), len(popdf))"
   ]
  },
  {
   "cell_type": "code",
   "execution_count": 154,
   "id": "0c5a4e09-9007-4094-a270-322bb2c4c4bc",
   "metadata": {},
   "outputs": [],
   "source": [
    "popdf['country_id'] = random_country_ids\n",
    "\n",
    "dim_folder = 'Dim'\n",
    "if not os.path.exists(dim_folder):\n",
    "    os.makedirs(dim_folder)\n",
    "\n",
    "dim_country_df = popdf[['country_id', 'country']].copy()\n",
    "dim_country_df.drop_duplicates(inplace=True)\n",
    "dim_country_df.to_csv(os.path.join(dim_folder, 'DimCountry.csv'), index=False)\n",
    "\n",
    "dim_area_df = popdf[['country_id', 'Area (km²)']].copy()\n",
    "dim_area_df.to_csv(os.path.join(dim_folder, 'DimArea.csv'), index=False)\n",
    "\n",
    "dim_rank_df = popdf[['country_id', 'Rank']].copy()\n",
    "dim_rank_df.to_csv(os.path.join(dim_folder, 'DimRank.csv'), index=False)\n",
    "\n",
    "dim_capital_df = popdf[['country_id', 'Capital']].copy()\n",
    "dim_capital_df.to_csv(os.path.join(dim_folder, 'DimCapital.csv'), index=False)\n"
   ]
  },
  {
   "cell_type": "code",
   "execution_count": 155,
   "id": "33427934-5e94-443e-9271-bba515f685fb",
   "metadata": {},
   "outputs": [],
   "source": [
    "dim_continent_df = pd.read_csv(os.path.join(dim_folder, 'DimContinent.csv'))\n",
    "\n",
    "population_fact = pd.read_csv('Fact/population_fact.csv')\n",
    "\n",
    "population_fact = population_fact.merge(dim_continent_df[['continent_id', 'Continent']], on='continent_id', how='left')\n",
    "\n",
    "population_fact.to_csv('Fact/population_fact.csv', index=False)"
   ]
  },
  {
   "cell_type": "code",
   "execution_count": 156,
   "id": "fe7b4a3c-7f32-4438-8440-972be7c5a982",
   "metadata": {},
   "outputs": [],
   "source": [
    "cols = list(popdf.columns)\n",
    "cols.insert(1, cols.pop(cols.index('country_id'))) \n",
    "cols.insert(2, 'continent_id') \n",
    "popdf = popdf.reindex(columns=cols)\n",
    "\n",
    "popdf.columns = popdf.columns.astype(str)\n",
    "popdf.rename(columns=lambda x: x.split('.')[0], inplace=True)\n",
    "\n",
    "popdf.drop(columns=['country', 'Area (km²)', 'Rank', 'Capital'], inplace=True)\n",
    "\n",
    "popdf.to_csv('Fact/population_fact.csv', index=False)\n",
    "\n",
    "population_fact = pd.read_csv('Fact/population_fact.csv')\n",
    "\n",
    "population_fact['continent_id'] = population_fact['Continent'].map(dim_continent_df.set_index('Continent')['continent_id'])\n",
    "\n",
    "population_fact.drop(columns=['Continent'], inplace=True)\n",
    "\n",
    "population_fact.to_csv('Fact/population_fact.csv', index=False)"
   ]
  },
  {
   "cell_type": "code",
   "execution_count": null,
   "id": "e4648f24-f0ca-4f0a-a58b-f392c81708bf",
   "metadata": {},
   "outputs": [],
   "source": []
  }
 ],
 "metadata": {
  "kernelspec": {
   "display_name": "Python 3 (ipykernel)",
   "language": "python",
   "name": "python3"
  },
  "language_info": {
   "codemirror_mode": {
    "name": "ipython",
    "version": 3
   },
   "file_extension": ".py",
   "mimetype": "text/x-python",
   "name": "python",
   "nbconvert_exporter": "python",
   "pygments_lexer": "ipython3",
   "version": "3.12.2"
  }
 },
 "nbformat": 4,
 "nbformat_minor": 5
}
