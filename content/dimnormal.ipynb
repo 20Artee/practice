{
 "cells": [
  {
   "cell_type": "code",
   "execution_count": 35,
   "id": "edf8e768-0ba6-4e8b-8a26-97370dc5e156",
   "metadata": {},
   "outputs": [
    {
     "name": "stdout",
     "output_type": "stream",
     "text": [
      "Dimension tables have been saved to CSV files.\n"
     ]
    }
   ],
   "source": [
    "import pandas as pd\n",
    "\n",
    "popdf = pd.read_csv(r'C:/Users/Rauan/practice/data/World Population Dataset.csv')\n",
    "climdf = pd.read_csv(r'C:/Users/Rauan/practice/data/climate_change_indicators.csv')\n",
    "\n",
    "country_dimension_pop = popdf[['country', 'Capital', 'Continent', 'Area (km²)']].copy()\n",
    "country_dimension_pop.drop_duplicates(inplace=True)\n",
    "country_dimension_pop['country_id'] = range(1, len(country_dimension_pop) + 1)\n",
    "\n",
    "indicator_dimension = climdf[['Indicator', 'Unit']].copy()\n",
    "indicator_dimension.drop_duplicates(inplace=True)\n",
    "indicator_dimension['indicator_id'] = range(1, len(indicator_dimension) + 1)\n",
    "\n",
    "climate_dimension = climdf[['Country', 'Indicator']].copy()\n",
    "climate_dimension.drop_duplicates(inplace=True)\n",
    "climate_dimension['climate_id'] = range(1, len(climate_dimension) + 1)\n",
    "\n",
    "country_dimension_pop.to_csv('country_dimension.csv', index=False)\n",
    "indicator_dimension.to_csv('indicator_dimension.csv', index=False)\n",
    "climate_dimension.to_csv('climate_dimension.csv', index=False)\n",
    "\n",
    "print(\"Dimension tables have been saved to CSV files.\")\n"
   ]
  },
  {
   "cell_type": "code",
   "execution_count": null,
   "id": "e53ec507-b6e5-4de8-a67a-6fd167873e82",
   "metadata": {},
   "outputs": [],
   "source": []
  }
 ],
 "metadata": {
  "kernelspec": {
   "display_name": "Python 3 (ipykernel)",
   "language": "python",
   "name": "python3"
  },
  "language_info": {
   "codemirror_mode": {
    "name": "ipython",
    "version": 3
   },
   "file_extension": ".py",
   "mimetype": "text/x-python",
   "name": "python",
   "nbconvert_exporter": "python",
   "pygments_lexer": "ipython3",
   "version": "3.12.2"
  }
 },
 "nbformat": 4,
 "nbformat_minor": 5
}
